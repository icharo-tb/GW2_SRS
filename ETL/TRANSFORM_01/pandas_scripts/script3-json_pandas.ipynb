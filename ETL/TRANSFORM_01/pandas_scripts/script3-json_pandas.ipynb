{
 "cells": [
  {
   "cell_type": "code",
   "execution_count": 18,
   "metadata": {},
   "outputs": [],
   "source": [
    "import pandas as pd\n",
    "import json"
   ]
  },
  {
   "cell_type": "markdown",
   "metadata": {},
   "source": [
    "### VG"
   ]
  },
  {
   "cell_type": "code",
   "execution_count": 19,
   "metadata": {},
   "outputs": [],
   "source": [
    "with open(r'C:\\Users\\DANIEL\\workspace\\gw2_srs\\GW2_SRS\\ETL\\EXTRACT_00\\Web Scraping\\Boss_data\\Wing_1\\Valley_Guardian\\20220823-171406_vg_kill.json') as file:\n",
    "    data = json.load(file)"
   ]
  },
  {
   "cell_type": "code",
   "execution_count": 20,
   "metadata": {},
   "outputs": [],
   "source": [
    "phase1_time_raw = data['phases'][1]['duration']\n",
    "phase1_time = round(phase1_time_raw/1000,1)\n",
    "\n",
    "phase2_time_raw = data['phases'][6]['duration']\n",
    "phase2_time = round(phase2_time_raw/1000,1)\n",
    "\n",
    "phase3_time_raw = data['phases'][12]['duration']\n",
    "phase3_time = round(phase3_time_raw/1000,1)"
   ]
  },
  {
   "cell_type": "code",
   "execution_count": 21,
   "metadata": {},
   "outputs": [
    {
     "data": {
      "text/plain": [
       "(37.8, 39.1, 39.1)"
      ]
     },
     "execution_count": 21,
     "metadata": {},
     "output_type": "execute_result"
    }
   ],
   "source": [
    "phase1_time,phase2_time,phase3_time"
   ]
  },
  {
   "cell_type": "code",
   "execution_count": 22,
   "metadata": {},
   "outputs": [],
   "source": [
    "phase1_dps = data['phases'][1]['dpsStats']\n",
    "phase2_dps = data['phases'][6]['dpsStats']\n",
    "phase3_dps = data['phases'][12]['dpsStats']"
   ]
  },
  {
   "cell_type": "code",
   "execution_count": 23,
   "metadata": {},
   "outputs": [
    {
     "data": {
      "text/plain": [
       "([[787747, 113461, 674286, 0.0],\n",
       "  [994036, 243876, 750160, 0.0],\n",
       "  [100178, 87708, 12470, 0.0],\n",
       "  [662356, 83622, 578734, 0.0],\n",
       "  [840520, 136427, 704093, 0.0],\n",
       "  [154467, 128939, 25528, 0.0],\n",
       "  [1361691, 1298723, 62968, 0.0],\n",
       "  [1109025, 1063035, 45990, 0.0],\n",
       "  [775455, 170945, 604510, 0.0],\n",
       "  [703522, 148026, 555496, 0.0]],\n",
       " [[540528, 93363, 447165, 0.0],\n",
       "  [938230, 191629, 746601, 150.0],\n",
       "  [141115, 115826, 25289, 0.0],\n",
       "  [558936, 64121, 494815, 200.0],\n",
       "  [861832, 131138, 730694, 0.0],\n",
       "  [142031, 118630, 23401, 232.0],\n",
       "  [1379999, 1318022, 61977, 100.0],\n",
       "  [1181622, 1128723, 52899, 332.0],\n",
       "  [786923, 180817, 606106, 150.0],\n",
       "  [691528, 145285, 546243, 0.0]],\n",
       " [[855179, 138656, 716523, 0.0],\n",
       "  [1002514, 274430, 728084, 150.0],\n",
       "  [113644, 83011, 30633, 150.0],\n",
       "  [458636, 68940, 389696, 150.0],\n",
       "  [1014995, 149464, 865531, 0.0],\n",
       "  [193136, 162468, 30668, 100.0],\n",
       "  [1631317, 1552819, 78498, 0.0],\n",
       "  [1466977, 1404896, 62081, 0.0],\n",
       "  [840366, 178919, 661447, 300.0],\n",
       "  [721951, 153360, 568591, 150.0]])"
      ]
     },
     "execution_count": 23,
     "metadata": {},
     "output_type": "execute_result"
    }
   ],
   "source": [
    "phase1_dps,phase2_dps,phase3_dps"
   ]
  },
  {
   "cell_type": "markdown",
   "metadata": {},
   "source": [
    "### Gorseval"
   ]
  },
  {
   "cell_type": "code",
   "execution_count": 24,
   "metadata": {},
   "outputs": [],
   "source": [
    "with open(r'C:\\Users\\DANIEL\\workspace\\gw2_srs\\GW2_SRS\\ETL\\EXTRACT_00\\Web Scraping\\Boss_data\\Wing_1\\Gorseval_The_Multifarious\\HUeg-20220829-210824_gors.json') as file:\n",
    "    data = json.load(file)"
   ]
  },
  {
   "cell_type": "code",
   "execution_count": 25,
   "metadata": {},
   "outputs": [],
   "source": [
    "phase1_time_raw = data['phases'][1]['duration']\n",
    "phase1_time = round(phase1_time_raw/1000,1)\n",
    "\n",
    "phase2_time_raw = data['phases'][4]['duration']\n",
    "phase2_time = round(phase2_time_raw/1000,1)\n",
    "\n",
    "phase3_time_raw = data['phases'][7]['duration']\n",
    "phase3_time = round(phase3_time_raw/1000,1)"
   ]
  },
  {
   "cell_type": "code",
   "execution_count": 26,
   "metadata": {},
   "outputs": [
    {
     "data": {
      "text/plain": [
       "(32.9, 30.6, 29.1)"
      ]
     },
     "execution_count": 26,
     "metadata": {},
     "output_type": "execute_result"
    }
   ],
   "source": [
    "phase1_time,phase2_time,phase3_time"
   ]
  },
  {
   "cell_type": "code",
   "execution_count": 27,
   "metadata": {},
   "outputs": [],
   "source": [
    "phase1_dps = data['phases'][1]['dpsStats']\n",
    "phase2_dps = data['phases'][4]['dpsStats']\n",
    "phase3_dps = data['phases'][7]['dpsStats']"
   ]
  },
  {
   "cell_type": "code",
   "execution_count": 28,
   "metadata": {},
   "outputs": [
    {
     "data": {
      "text/plain": [
       "([[188278, 152094, 36184, 872.0],\n",
       "  [932303, 149615, 782688, 300.0],\n",
       "  [961035, 914703, 46332, 150.0],\n",
       "  [928573, 282402, 646171, 200.0],\n",
       "  [774111, 758583, 15528, 0.0],\n",
       "  [922396, 206294, 716102, 0.0],\n",
       "  [907658, 883406, 24252, 750.0],\n",
       "  [963464, 897230, 66234, 932.0],\n",
       "  [646168, 94055, 552113, 0.0],\n",
       "  [642529, 589536, 52993, 400.0]],\n",
       " [[143035, 111923, 31112, 872.0],\n",
       "  [968231, 135342, 832889, 200.0],\n",
       "  [975416, 930751, 44665, 100.0],\n",
       "  [930705, 297836, 632869, 0.0],\n",
       "  [717795, 705046, 12749, 100.0],\n",
       "  [794738, 153152, 641586, 0.0],\n",
       "  [799546, 776284, 23262, 600.0],\n",
       "  [1046978, 986414, 60564, 664.0],\n",
       "  [656219, 96630, 559589, 150.0],\n",
       "  [522706, 477680, 45026, 550.0]],\n",
       " [[133077, 112432, 20645, 742.0],\n",
       "  [975651, 139786, 835865, 300.0],\n",
       "  [931574, 882157, 49417, 100.0],\n",
       "  [814384, 266128, 548256, 100.0],\n",
       "  [692812, 681411, 11401, 0.0],\n",
       "  [843455, 149217, 694238, 750.0],\n",
       "  [891423, 874527, 16896, 200.0],\n",
       "  [996260, 944570, 51690, 964.0],\n",
       "  [631031, 100953, 530078, 0.0],\n",
       "  [493371, 459038, 34333, 650.0]])"
      ]
     },
     "execution_count": 28,
     "metadata": {},
     "output_type": "execute_result"
    }
   ],
   "source": [
    "phase1_dps,phase2_dps,phase3_dps"
   ]
  },
  {
   "cell_type": "markdown",
   "metadata": {},
   "source": [
    "### Sabetha"
   ]
  },
  {
   "cell_type": "code",
   "execution_count": 29,
   "metadata": {},
   "outputs": [],
   "source": [
    "with open(r'C:\\Users\\DANIEL\\workspace\\gw2_srs\\GW2_SRS\\ETL\\EXTRACT_00\\Web Scraping\\Boss_data\\Wing_1\\Sabetha\\20220902-235442_sab_kill.json') as file:\n",
    "    data = json.load(file)"
   ]
  },
  {
   "cell_type": "code",
   "execution_count": 30,
   "metadata": {},
   "outputs": [],
   "source": [
    "phase1_time_raw = data['phases'][1]['duration']\n",
    "phase1_time = round(phase1_time_raw/1000,1)\n",
    "\n",
    "phase2_time_raw = data['phases'][3]['duration']\n",
    "phase2_time = round(phase2_time_raw/1000,1)\n",
    "\n",
    "phase3_time_raw = data['phases'][6]['duration']\n",
    "phase3_time = round(phase3_time_raw/1000,1)\n",
    "\n",
    "phase4_time_raw = data['phases'][9]['duration']\n",
    "phase4_time = round(phase4_time_raw/1000,1)"
   ]
  },
  {
   "cell_type": "code",
   "execution_count": 31,
   "metadata": {},
   "outputs": [
    {
     "data": {
      "text/plain": [
       "(45.0, 65.7, 38.2, 56.0)"
      ]
     },
     "execution_count": 31,
     "metadata": {},
     "output_type": "execute_result"
    }
   ],
   "source": [
    "phase1_time,phase2_time,phase3_time,phase4_time"
   ]
  },
  {
   "cell_type": "code",
   "execution_count": 32,
   "metadata": {},
   "outputs": [],
   "source": [
    "phase1_dps = data['phases'][1]['dpsStats']\n",
    "phase2_dps = data['phases'][3]['dpsStats']\n",
    "phase3_dps = data['phases'][6]['dpsStats']\n",
    "phase4_dps = data['phases'][9]['dpsStats']"
   ]
  },
  {
   "cell_type": "code",
   "execution_count": 33,
   "metadata": {},
   "outputs": [
    {
     "data": {
      "text/plain": [
       "([[53311, 53311, 0, 0.0],\n",
       "  [1091715, 1035505, 56210, 0.0],\n",
       "  [1064303, 981175, 83128, 0.0],\n",
       "  [718379, 113775, 604604, 0.0],\n",
       "  [939849, 872946, 66903, 0.0],\n",
       "  [1343260, 1246732, 96528, 0.0],\n",
       "  [1268136, 1267150, 986, 0.0],\n",
       "  [1321585, 407943, 913642, 0.0],\n",
       "  [597650, 106532, 491118, 0.0],\n",
       "  [190734, 141664, 49070, 0.0]],\n",
       " [[140228, 137038, 3190, 0.0],\n",
       "  [1334515, 1283340, 51175, 0.0],\n",
       "  [1214165, 1141966, 72199, 0.0],\n",
       "  [1297831, 215578, 1082253, 0.0],\n",
       "  [1407563, 1336189, 71374, 0.0],\n",
       "  [2057366, 1910507, 146859, 0.0],\n",
       "  [2005557, 2005229, 328, 0.0],\n",
       "  [2076685, 617866, 1458819, 0.0],\n",
       "  [1089709, 179324, 910385, 0.0],\n",
       "  [351704, 262984, 88720, 0.0]],\n",
       " [[70679, 70370, 309, 0.0],\n",
       "  [768526, 739240, 29286, 0.0],\n",
       "  [726251, 668528, 57723, 0.0],\n",
       "  [781170, 120588, 660582, 0.0],\n",
       "  [928725, 864930, 63795, 0.0],\n",
       "  [1312594, 1218839, 93755, 0.0],\n",
       "  [1230897, 1229967, 930, 500.0],\n",
       "  [1063328, 327577, 735751, 0.0],\n",
       "  [627877, 112382, 515495, 0.0],\n",
       "  [160611, 121464, 39147, 0.0]],\n",
       " [[85513, 83990, 1523, 0.0],\n",
       "  [1101803, 1063917, 37886, 0.0],\n",
       "  [922567, 872621, 49946, 0.0],\n",
       "  [1097673, 171013, 926660, 0.0],\n",
       "  [1542081, 1459396, 82685, 0.0],\n",
       "  [1537867, 1436184, 101683, 0.0],\n",
       "  [1745035, 1743391, 1644, 0.0],\n",
       "  [1636674, 514849, 1121825, 0.0],\n",
       "  [816590, 130163, 686427, 0.0],\n",
       "  [237063, 177687, 59376, 0.0]])"
      ]
     },
     "execution_count": 33,
     "metadata": {},
     "output_type": "execute_result"
    }
   ],
   "source": [
    "phase1_dps,phase2_dps,phase3_dps,phase4_dps"
   ]
  },
  {
   "cell_type": "markdown",
   "metadata": {},
   "source": [
    "### Sloth"
   ]
  },
  {
   "cell_type": "code",
   "execution_count": 34,
   "metadata": {},
   "outputs": [],
   "source": [
    "with open(r'C:\\Users\\DANIEL\\workspace\\gw2_srs\\GW2_SRS\\ETL\\EXTRACT_00\\Web Scraping\\Boss_data\\Wing_2\\Slothasor\\IguK-20220827-005054_sloth.json') as file:\n",
    "    data = json.load(file)"
   ]
  },
  {
   "cell_type": "code",
   "execution_count": 35,
   "metadata": {},
   "outputs": [],
   "source": [
    "phase1_time_raw = data['phases'][1]['duration']\n",
    "phase1_time = round(phase1_time_raw/1000,1)\n",
    "\n",
    "phase2_time_raw = data['phases'][3]['duration']\n",
    "phase2_time = round(phase2_time_raw/1000,1)\n",
    "\n",
    "phase3_time_raw = data['phases'][5]['duration']\n",
    "phase3_time = round(phase3_time_raw/1000,1)\n",
    "\n",
    "phase4_time_raw = data['phases'][7]['duration']\n",
    "phase4_time = round(phase4_time_raw/1000,1)\n",
    "\n",
    "phase5_time_raw = data['phases'][9]['duration']\n",
    "phase5_time = round(phase5_time_raw/1000,1)\n",
    "\n",
    "phase6_time_raw = data['phases'][11]['duration']\n",
    "phase6_time = round(phase6_time_raw/1000,1)"
   ]
  },
  {
   "cell_type": "code",
   "execution_count": 36,
   "metadata": {},
   "outputs": [
    {
     "data": {
      "text/plain": [
       "(25.3, 25.3, 20.9, 19.7, 12.5, 15.2)"
      ]
     },
     "execution_count": 36,
     "metadata": {},
     "output_type": "execute_result"
    }
   ],
   "source": [
    "phase1_time,phase2_time,phase3_time,phase4_time,phase5_time,phase6_time"
   ]
  },
  {
   "cell_type": "code",
   "execution_count": 37,
   "metadata": {},
   "outputs": [],
   "source": [
    "phase1_dps = data['phases'][1]['dpsStats']\n",
    "phase2_dps = data['phases'][3]['dpsStats']\n",
    "phase3_dps = data['phases'][5]['dpsStats']\n",
    "phase4_dps = data['phases'][7]['dpsStats']\n",
    "phase5_dps = data['phases'][9]['dpsStats']\n",
    "phase6_dps = data['phases'][11]['dpsStats']"
   ]
  },
  {
   "cell_type": "code",
   "execution_count": 38,
   "metadata": {},
   "outputs": [
    {
     "data": {
      "text/plain": [
       "([[0, 0, 0, 0.0],\n",
       "  [585163, 576772, 8391, 0.0],\n",
       "  [578102, 83349, 494753, 0.0],\n",
       "  [129603, 112641, 16962, 0.0],\n",
       "  [705205, 693988, 11217, 0.0],\n",
       "  [419043, 409478, 9565, 0.0],\n",
       "  [64583, 40513, 24070, 0.0],\n",
       "  [466444, 89712, 376732, 0.0],\n",
       "  [576145, 563600, 12545, 0.0],\n",
       "  [637671, 603203, 34468, 0.0]],\n",
       " [[483620, 482964, 656, 150.0],\n",
       "  [622197, 612145, 10052, 0.0],\n",
       "  [595009, 86988, 508021, 0.0],\n",
       "  [82674, 74108, 8566, 0.0],\n",
       "  [581037, 570900, 10137, 0.0],\n",
       "  [398950, 398644, 306, 0.0],\n",
       "  [52676, 29397, 23279, 0.0],\n",
       "  [338180, 54214, 283966, 0.0],\n",
       "  [791985, 775811, 16174, 0.0],\n",
       "  [553157, 532761, 20396, 0.0]],\n",
       " [[566493, 564222, 2271, 0.0],\n",
       "  [473240, 468209, 5031, 0.0],\n",
       "  [691334, 92662, 598672, 0.0],\n",
       "  [118344, 108482, 9862, 0.0],\n",
       "  [465507, 460303, 5204, 0.0],\n",
       "  [387226, 382632, 4594, 0.0],\n",
       "  [50515, 31696, 18819, 0.0],\n",
       "  [94122, 19528, 74594, 0.0],\n",
       "  [477854, 466965, 10889, 0.0],\n",
       "  [579392, 548623, 30769, 150.0]],\n",
       " [[472595, 469855, 2740, 0.0],\n",
       "  [469017, 463198, 5819, 750.0],\n",
       "  [540706, 83137, 457569, 0.0],\n",
       "  [141891, 118178, 23713, 0.0],\n",
       "  [394078, 389402, 4676, 450.0],\n",
       "  [253487, 250110, 3377, 0.0],\n",
       "  [36474, 25065, 11409, 150.0],\n",
       "  [652092, 99112, 552980, 0.0],\n",
       "  [498370, 490494, 7876, 400.0],\n",
       "  [575947, 534033, 41914, 100.0]],\n",
       " [[241665, 240980, 685, 0.0],\n",
       "  [261335, 259571, 1764, 232.0],\n",
       "  [305636, 41282, 264354, 0.0],\n",
       "  [49075, 47831, 1244, 0.0],\n",
       "  [247423, 246732, 691, 550.0],\n",
       "  [175587, 170560, 5027, 300.0],\n",
       "  [44949, 26362, 18587, 0.0],\n",
       "  [221364, 36849, 184515, 300.0],\n",
       "  [405907, 398874, 7033, 100.0],\n",
       "  [109648, 109503, 145, 0.0]],\n",
       " [[125571, 118795, 6776, 0.0],\n",
       "  [225257, 220730, 4527, 0.0],\n",
       "  [449147, 55173, 393974, 0.0],\n",
       "  [60954, 53923, 7031, 150.0],\n",
       "  [170460, 166822, 3638, 0.0],\n",
       "  [132187, 132150, 37, 0.0],\n",
       "  [51350, 28349, 23001, 0.0],\n",
       "  [266758, 45021, 221737, 0.0],\n",
       "  [210050, 204124, 5926, 0.0],\n",
       "  [223125, 219111, 4014, 0.0]])"
      ]
     },
     "execution_count": 38,
     "metadata": {},
     "output_type": "execute_result"
    }
   ],
   "source": [
    "phase1_dps,phase2_dps,phase3_dps,phase4_dps,phase5_dps,phase6_dps"
   ]
  },
  {
   "cell_type": "markdown",
   "metadata": {},
   "source": [
    "### Matthias"
   ]
  },
  {
   "cell_type": "code",
   "execution_count": 39,
   "metadata": {},
   "outputs": [],
   "source": [
    "with open(r'C:\\Users\\DANIEL\\workspace\\gw2_srs\\GW2_SRS\\ETL\\EXTRACT_00\\Web Scraping\\Boss_data\\Wing_2\\Mathias\\20220905-131322_matt_kill.json') as file:\n",
    "    data = json.load(file)"
   ]
  },
  {
   "cell_type": "code",
   "execution_count": 40,
   "metadata": {},
   "outputs": [],
   "source": [
    "ice_phase_time_raw = data['phases'][1]['duration']\n",
    "ice_phase_time = round(ice_phase_time_raw/1000,1)\n",
    "\n",
    "fire_phase_time_raw = data['phases'][3]['duration']\n",
    "fire_phase_time = round(fire_phase_time_raw/1000,1)\n",
    "\n",
    "storm_phase_time_raw = data['phases'][5]['duration']\n",
    "storm_phase_time = round(storm_phase_time_raw/1000,1)\n",
    "\n",
    "abomination_phase_time_raw = data['phases'][6]['duration']\n",
    "abomination_phase_time = round(abomination_phase_time_raw/1000,1)"
   ]
  },
  {
   "cell_type": "code",
   "execution_count": 41,
   "metadata": {},
   "outputs": [
    {
     "data": {
      "text/plain": [
       "(33.0, 30.9, 38.0, 75.1)"
      ]
     },
     "execution_count": 41,
     "metadata": {},
     "output_type": "execute_result"
    }
   ],
   "source": [
    "ice_phase_time,fire_phase_time,storm_phase_time,abomination_phase_time"
   ]
  },
  {
   "cell_type": "code",
   "execution_count": 42,
   "metadata": {},
   "outputs": [],
   "source": [
    "ice_phase = data['phases'][1]['dpsStats']\n",
    "fire_phase = data['phases'][3]['dpsStats']\n",
    "storm_phase = data['phases'][5]['dpsStats']\n",
    "abomination_phase = data['phases'][6]['dpsStats']"
   ]
  },
  {
   "cell_type": "code",
   "execution_count": 43,
   "metadata": {},
   "outputs": [
    {
     "data": {
      "text/plain": [
       "([[529174, 56425, 472749, 600.0],\n",
       "  [846455, 144947, 701508, 0.0],\n",
       "  [53693, 47671, 6022, 0.0],\n",
       "  [716328, 70638, 645690, 0.0],\n",
       "  [251399, 37161, 214238, 0.0],\n",
       "  [499681, 97701, 401980, 0.0],\n",
       "  [793818, 213478, 580340, 850.0],\n",
       "  [639288, 91615, 547673, 150.0],\n",
       "  [800316, 232076, 568240, 0.0],\n",
       "  [123374, 111135, 12239, 432.0]],\n",
       " [[297681, 53759, 243922, 0.0],\n",
       "  [768470, 106847, 661623, 0.0],\n",
       "  [45185, 39667, 5518, 0.0],\n",
       "  [663368, 61405, 601963, 0.0],\n",
       "  [725653, 120505, 605148, 0.0],\n",
       "  [427222, 98231, 328991, 0.0],\n",
       "  [774368, 243978, 530390, 0.0],\n",
       "  [504843, 66865, 437978, 0.0],\n",
       "  [867944, 229210, 638734, 0.0],\n",
       "  [139877, 126080, 13797, 0.0]],\n",
       " [[353320, 44905, 308415, 0.0],\n",
       "  [682221, 76665, 605556, 0.0],\n",
       "  [67469, 58865, 8604, 232.0],\n",
       "  [776705, 59787, 716918, 150.0],\n",
       "  [680773, 121524, 559249, 0.0],\n",
       "  [390781, 74011, 316770, 0.0],\n",
       "  [745465, 226252, 519213, 0.0],\n",
       "  [483544, 71577, 411967, 600.0],\n",
       "  [833578, 198066, 635512, 200.0],\n",
       "  [100352, 92104, 8248, 664.0]],\n",
       " [[807130, 114825, 692305, 0.0],\n",
       "  [1904379, 318562, 1585817, 0.0],\n",
       "  [180020, 169169, 10851, 0.0],\n",
       "  [1340592, 129509, 1211083, 0.0],\n",
       "  [1492085, 238203, 1253882, 0.0],\n",
       "  [796980, 166248, 630732, 0.0],\n",
       "  [1111434, 344367, 767067, 0.0],\n",
       "  [604246, 91060, 513186, 0.0],\n",
       "  [2015466, 613452, 1402014, 0.0],\n",
       "  [265058, 253150, 11908, 0.0]])"
      ]
     },
     "execution_count": 43,
     "metadata": {},
     "output_type": "execute_result"
    }
   ],
   "source": [
    "ice_phase,fire_phase,storm_phase,abomination_phase"
   ]
  },
  {
   "cell_type": "markdown",
   "metadata": {},
   "source": [
    "### KC"
   ]
  },
  {
   "cell_type": "code",
   "execution_count": 44,
   "metadata": {},
   "outputs": [],
   "source": [
    "with open(r'C:\\Users\\DANIEL\\workspace\\gw2_srs\\GW2_SRS\\ETL\\EXTRACT_00\\Web Scraping\\Boss_data\\Wing_3\\Keep_Construct\\20220823-232523_kc_kill.json') as file:\n",
    "    data = json.load(file)"
   ]
  },
  {
   "cell_type": "code",
   "execution_count": 45,
   "metadata": {},
   "outputs": [],
   "source": [
    "phase1_time_raw = data['phases'][1]['duration']\n",
    "phase1_time = round(phase1_time_raw/1000,1)\n",
    "\n",
    "phase2_time_raw = data['phases'][5]['duration']\n",
    "phase2_time = round(phase2_time_raw/1000,1)\n",
    "\n",
    "phase3_time_raw = data['phases'][9]['duration']\n",
    "phase3_time = round(phase3_time_raw/1000,1)"
   ]
  },
  {
   "cell_type": "code",
   "execution_count": 46,
   "metadata": {},
   "outputs": [
    {
     "data": {
      "text/plain": [
       "(102.8, 92.6, 104.0)"
      ]
     },
     "execution_count": 46,
     "metadata": {},
     "output_type": "execute_result"
    }
   ],
   "source": [
    "phase1_time,phase2_time,phase3_time"
   ]
  },
  {
   "cell_type": "code",
   "execution_count": 47,
   "metadata": {},
   "outputs": [],
   "source": [
    "phase1_dps = data['phases'][1]['dpsStats']\n",
    "phase2_dps = data['phases'][5]['dpsStats']\n",
    "phase3_dps = data['phases'][9]['dpsStats']"
   ]
  },
  {
   "cell_type": "code",
   "execution_count": 48,
   "metadata": {},
   "outputs": [
    {
     "data": {
      "text/plain": [
       "([[1066472, 1031785, 34687, 0.0],\n",
       "  [517114, 385590, 131524, 0.0],\n",
       "  [1891826, 523565, 1368261, 0.0],\n",
       "  [3119230, 3107603, 11627, 150.0],\n",
       "  [1906178, 1884547, 21631, 400.0],\n",
       "  [3198029, 3101925, 96104, 0.0],\n",
       "  [3125661, 2973325, 152336, 750.0],\n",
       "  [3772389, 3651332, 121057, 432.0],\n",
       "  [2084834, 2000451, 84383, 682.0],\n",
       "  [379174, 348267, 30907, 600.0]],\n",
       " [[0, 0, 0, 0.0],\n",
       "  [604401, 478095, 126306, 0.0],\n",
       "  [1734681, 524360, 1210321, 0.0],\n",
       "  [3457382, 3438711, 18671, 150.0],\n",
       "  [2016711, 2001266, 15445, 300.0],\n",
       "  [3604162, 3480467, 123695, 582.0],\n",
       "  [3158590, 3015752, 142838, 400.0],\n",
       "  [3902998, 3774539, 128459, 914.0],\n",
       "  [1548295, 1506188, 42107, 200.0],\n",
       "  [355856, 324971, 30885, 300.0]],\n",
       " [[0, 0, 0, 0.0],\n",
       "  [711691, 526738, 184953, 150.0],\n",
       "  [1974427, 603369, 1371058, 550.0],\n",
       "  [3813476, 3802865, 10611, 250.0],\n",
       "  [1744961, 1721449, 23512, 200.0],\n",
       "  [3474800, 3399138, 75662, 100.0],\n",
       "  [3232775, 3094252, 138523, 800.0],\n",
       "  [3570266, 3438746, 131520, 632.0],\n",
       "  [1592277, 1545946, 46331, 682.0],\n",
       "  [354138, 322074, 32064, 0.0]])"
      ]
     },
     "execution_count": 48,
     "metadata": {},
     "output_type": "execute_result"
    }
   ],
   "source": [
    "phase1_dps,phase2_dps,phase3_dps"
   ]
  },
  {
   "cell_type": "markdown",
   "metadata": {},
   "source": [
    "### Xera"
   ]
  },
  {
   "cell_type": "code",
   "execution_count": 49,
   "metadata": {},
   "outputs": [],
   "source": [
    "with open(r'C:\\Users\\DANIEL\\workspace\\gw2_srs\\GW2_SRS\\ETL\\EXTRACT_00\\Web Scraping\\Boss_data\\Wing_3\\Xera\\20220906-193706_xera_kill.json') as file:\n",
    "    data = json.load(file)"
   ]
  },
  {
   "cell_type": "code",
   "execution_count": 50,
   "metadata": {},
   "outputs": [],
   "source": [
    "phase1_time_raw = data['phases'][1]['duration']\n",
    "phase1_time = round(phase1_time_raw/1000,1)\n",
    "\n",
    "phase2_time_raw = data['phases'][4]['duration']\n",
    "phase2_time = round(phase2_time_raw/1000,1)"
   ]
  },
  {
   "cell_type": "code",
   "execution_count": 51,
   "metadata": {},
   "outputs": [
    {
     "data": {
      "text/plain": [
       "(50.8, 86.8)"
      ]
     },
     "execution_count": 51,
     "metadata": {},
     "output_type": "execute_result"
    }
   ],
   "source": [
    "phase1_time,phase2_time"
   ]
  },
  {
   "cell_type": "code",
   "execution_count": 52,
   "metadata": {},
   "outputs": [],
   "source": [
    "phase1_dps = data['phases'][1]['dpsStats']\n",
    "phase2_dps = data['phases'][4]['dpsStats']"
   ]
  },
  {
   "cell_type": "code",
   "execution_count": 53,
   "metadata": {},
   "outputs": [
    {
     "data": {
      "text/plain": [
       "([[2116361, 1997151, 119210, 0.0],\n",
       "  [1708126, 265353, 1442773, 250.0],\n",
       "  [1244752, 1152975, 91777, 100.0],\n",
       "  [1783573, 538176, 1245397, 0.0],\n",
       "  [1102163, 1079757, 22406, 300.0],\n",
       "  [1895175, 227593, 1667582, 600.0],\n",
       "  [1438883, 1424028, 14855, 0.0],\n",
       "  [420682, 373279, 47403, 350.0],\n",
       "  [2045354, 1987539, 57815, 500.0],\n",
       "  [2539096, 2388167, 150929, 0.0]],\n",
       " [[1784413, 1709454, 74959, 232.0],\n",
       "  [927734, 186334, 741400, 0.0],\n",
       "  [1968726, 1826632, 142094, 432.0],\n",
       "  [1152822, 426541, 726281, 0.0],\n",
       "  [941464, 929658, 11806, 0.0],\n",
       "  [2699484, 325342, 2374142, 200.0],\n",
       "  [3665459, 3651160, 14299, 0.0],\n",
       "  [659195, 589303, 69892, 350.0],\n",
       "  [2754575, 2701801, 52774, 300.0],\n",
       "  [4814596, 4621389, 193207, 150.0]])"
      ]
     },
     "execution_count": 53,
     "metadata": {},
     "output_type": "execute_result"
    }
   ],
   "source": [
    "phase1_dps,phase2_dps"
   ]
  },
  {
   "cell_type": "markdown",
   "metadata": {},
   "source": [
    "### Cairn"
   ]
  },
  {
   "cell_type": "code",
   "execution_count": 54,
   "metadata": {},
   "outputs": [],
   "source": [
    "with open(r'C:\\Users\\DANIEL\\workspace\\gw2_srs\\GW2_SRS\\ETL\\EXTRACT_00\\Web Scraping\\Boss_data\\Wing_4\\Cairn_The_Indomitable\\20220826-102452_cairn_kill.json') as file:\n",
    "    data = json.load(file)"
   ]
  },
  {
   "cell_type": "code",
   "execution_count": 55,
   "metadata": {},
   "outputs": [],
   "source": [
    "full_fight_time_raw = data['phases'][0]['duration']\n",
    "full_fight_time = round(full_fight_time_raw/1000,1)"
   ]
  },
  {
   "cell_type": "code",
   "execution_count": 56,
   "metadata": {},
   "outputs": [
    {
     "data": {
      "text/plain": [
       "89.8"
      ]
     },
     "execution_count": 56,
     "metadata": {},
     "output_type": "execute_result"
    }
   ],
   "source": [
    "full_fight_time"
   ]
  },
  {
   "cell_type": "code",
   "execution_count": 57,
   "metadata": {},
   "outputs": [],
   "source": [
    "full_fight_dps = data['phases'][0]['dpsStats']"
   ]
  },
  {
   "cell_type": "code",
   "execution_count": 58,
   "metadata": {},
   "outputs": [
    {
     "data": {
      "text/plain": [
       "[[141417, 95642, 45775, 0.0],\n",
       " [2777612, 2645055, 132557, 0.0],\n",
       " [2810225, 476716, 2333509, 0.0],\n",
       " [1307957, 1233367, 74590, 0.0],\n",
       " [2594017, 745076, 1848941, 0.0],\n",
       " [2753000, 793424, 1959576, 0.0],\n",
       " [2633812, 753986, 1879826, 0.0],\n",
       " [2801492, 2638293, 163199, 0.0],\n",
       " [753094, 213624, 539470, 0.0],\n",
       " [1372331, 306741, 1065590, 0.0]]"
      ]
     },
     "execution_count": 58,
     "metadata": {},
     "output_type": "execute_result"
    }
   ],
   "source": [
    "full_fight_dps"
   ]
  },
  {
   "cell_type": "markdown",
   "metadata": {},
   "source": [
    "### Mursaat"
   ]
  },
  {
   "cell_type": "code",
   "execution_count": 59,
   "metadata": {},
   "outputs": [],
   "source": [
    "with open(r'C:\\Users\\DANIEL\\workspace\\gw2_srs\\GW2_SRS\\ETL\\EXTRACT_00\\Web Scraping\\Boss_data\\Wing_4\\Mursaat_Overseer\\20220903-214553_mo_kill.json') as file:\n",
    "    data = json.load(file)"
   ]
  },
  {
   "cell_type": "code",
   "execution_count": 60,
   "metadata": {},
   "outputs": [],
   "source": [
    "from100_to75_time_raw = data['phases'][1]['duration']\n",
    "from100_to75_time = round(from100_to75_time_raw/1000,1)\n",
    "\n",
    "from75_to50_time_raw = data['phases'][2]['duration']\n",
    "from75_to50_time = round(from75_to50_time_raw/1000,1)\n",
    "\n",
    "from50_to25_time_raw = data['phases'][3]['duration']\n",
    "from50_to25_time = round(from50_to25_time_raw/1000,1)\n",
    "\n",
    "from25_to0_time_raw = data['phases'][4]['duration']\n",
    "from25_to0_time = round(from25_to0_time_raw/1000,1)"
   ]
  },
  {
   "cell_type": "code",
   "execution_count": 61,
   "metadata": {},
   "outputs": [
    {
     "data": {
      "text/plain": [
       "(30.4, 27.0, 28.8, 30.0)"
      ]
     },
     "execution_count": 61,
     "metadata": {},
     "output_type": "execute_result"
    }
   ],
   "source": [
    "from100_to75_time,from75_to50_time,from50_to25_time,from25_to0_time"
   ]
  },
  {
   "cell_type": "code",
   "execution_count": 62,
   "metadata": {},
   "outputs": [],
   "source": [
    "from100_to75 = data['phases'][1]['dpsStats']\n",
    "from75_to50 = data['phases'][2]['dpsStats']\n",
    "from50_to25 = data['phases'][3]['dpsStats']\n",
    "from25_to0 = data['phases'][4]['dpsStats']"
   ]
  },
  {
   "cell_type": "code",
   "execution_count": 63,
   "metadata": {},
   "outputs": [
    {
     "data": {
      "text/plain": [
       "([[1012738, 369401, 643337, 0.0],\n",
       "  [42296, 36936, 5360, 0.0],\n",
       "  [957186, 183730, 773456, 0.0],\n",
       "  [912861, 270931, 641930, 0.0],\n",
       "  [515484, 46051, 469433, 0.0],\n",
       "  [925512, 79678, 845834, 0.0],\n",
       "  [722651, 95741, 626910, 0.0],\n",
       "  [938703, 233741, 704962, 0.0],\n",
       "  [558809, 505296, 53513, 0.0],\n",
       "  [1011302, 135488, 875814, 0.0]],\n",
       " [[959830, 328079, 631751, 0.0],\n",
       "  [51015, 44123, 6892, 0.0],\n",
       "  [829977, 134007, 695970, 0.0],\n",
       "  [896238, 252509, 643729, 0.0],\n",
       "  [750261, 42677, 707584, 0.0],\n",
       "  [963246, 68259, 894987, 0.0],\n",
       "  [746583, 87314, 659269, 0.0],\n",
       "  [930186, 238051, 692135, 0.0],\n",
       "  [612125, 549325, 62800, 0.0],\n",
       "  [905577, 102078, 803499, 0.0]],\n",
       " [[770471, 281837, 488634, 0.0],\n",
       "  [45253, 39985, 5268, 0.0],\n",
       "  [907839, 145032, 762807, 0.0],\n",
       "  [984616, 301439, 683177, 0.0],\n",
       "  [684909, 41494, 643415, 0.0],\n",
       "  [1022543, 71080, 951463, 0.0],\n",
       "  [830187, 103609, 726578, 0.0],\n",
       "  [1131666, 302108, 829558, 0.0],\n",
       "  [679785, 614050, 65735, 0.0],\n",
       "  [983034, 123869, 859165, 0.0]],\n",
       " [[713208, 308090, 405118, 0.0],\n",
       "  [74974, 66414, 8560, 0.0],\n",
       "  [939982, 174658, 765324, 0.0],\n",
       "  [1073193, 365552, 707641, 0.0],\n",
       "  [693007, 59553, 633454, 0.0],\n",
       "  [1063466, 95735, 967731, 0.0],\n",
       "  [950393, 125183, 825210, 0.0],\n",
       "  [1176807, 348184, 828623, 0.0],\n",
       "  [697178, 618553, 78625, 0.0],\n",
       "  [1052715, 125134, 927581, 0.0]])"
      ]
     },
     "execution_count": 63,
     "metadata": {},
     "output_type": "execute_result"
    }
   ],
   "source": [
    "from100_to75,from75_to50,from50_to25,from25_to0"
   ]
  },
  {
   "cell_type": "markdown",
   "metadata": {},
   "source": [
    "### Samarog"
   ]
  },
  {
   "cell_type": "code",
   "execution_count": 64,
   "metadata": {},
   "outputs": [],
   "source": [
    "with open(r'C:\\Users\\DANIEL\\workspace\\gw2_srs\\GW2_SRS\\ETL\\EXTRACT_00\\Web Scraping\\Boss_data\\Wing_4\\Samarog\\20220901-120047_sam_kill.json') as file:\n",
    "    data = json.load(file)"
   ]
  },
  {
   "cell_type": "code",
   "execution_count": 65,
   "metadata": {},
   "outputs": [],
   "source": [
    "phase1_time_raw = data['phases'][1]['duration']\n",
    "phase1_time = round(phase1_time_raw/1000,1)\n",
    "\n",
    "phase2_time_raw = data['phases'][6]['duration']\n",
    "phase2_time = round(phase2_time_raw/1000,1)\n",
    "\n",
    "phase3_time_raw = data['phases'][11]['duration']\n",
    "phase3_time = round(phase3_time_raw/1000,1)"
   ]
  },
  {
   "cell_type": "code",
   "execution_count": 66,
   "metadata": {},
   "outputs": [
    {
     "data": {
      "text/plain": [
       "(66.3, 76.9, 73.0)"
      ]
     },
     "execution_count": 66,
     "metadata": {},
     "output_type": "execute_result"
    }
   ],
   "source": [
    "phase1_time,phase2_time,phase3_time"
   ]
  },
  {
   "cell_type": "code",
   "execution_count": 67,
   "metadata": {},
   "outputs": [],
   "source": [
    "phase1_dps = data['phases'][1]['dpsStats']\n",
    "phase2_dps = data['phases'][6]['dpsStats']\n",
    "phase3_dps = data['phases'][11]['dpsStats']"
   ]
  },
  {
   "cell_type": "code",
   "execution_count": 68,
   "metadata": {},
   "outputs": [
    {
     "data": {
      "text/plain": [
       "([[1308840, 1292333, 16507, 700.0],\n",
       "  [303542, 268822, 34720, 1920.0],\n",
       "  [1485366, 1387050, 98316, 1264.0],\n",
       "  [951460, 904244, 47216, 1960.0],\n",
       "  [1179953, 1139665, 40288, 150.0],\n",
       "  [1416605, 1369476, 47129, 1300.0],\n",
       "  [176340, 147617, 28723, 1696.0],\n",
       "  [861753, 827393, 34360, 0.0],\n",
       "  [908379, 898896, 9483, 1996.0],\n",
       "  [1539394, 1442921, 96473, 2092.0]],\n",
       " [[1411560, 1394410, 17150, 1300.0],\n",
       "  [324011, 292059, 31952, 1180.0],\n",
       "  [1411996, 1327851, 84145, 1928.0],\n",
       "  [1012653, 966253, 46400, 2324.0],\n",
       "  [1075669, 1040736, 34933, 300.0],\n",
       "  [1447840, 1410395, 37445, 1350.0],\n",
       "  [192730, 166689, 26041, 1814.0],\n",
       "  [686001, 680853, 5148, 300.0],\n",
       "  [847491, 837435, 10056, 1064.0],\n",
       "  [1546640, 1462493, 84147, 1628.0]],\n",
       " [[1227015, 1210515, 16500, 900.0],\n",
       "  [288980, 259064, 29916, 1560.0],\n",
       "  [1385135, 1292596, 92539, 1628.0],\n",
       "  [1054031, 1001882, 52149, 1660.0],\n",
       "  [1183004, 1153714, 29290, 300.0],\n",
       "  [1606268, 1571699, 34569, 1650.0],\n",
       "  [225007, 193148, 31859, 1978.0],\n",
       "  [813175, 799092, 14083, 0.0],\n",
       "  [792253, 787537, 4716, 1964.0],\n",
       "  [1576886, 1490946, 85940, 1528.0]])"
      ]
     },
     "execution_count": 68,
     "metadata": {},
     "output_type": "execute_result"
    }
   ],
   "source": [
    "phase1_dps,phase2_dps,phase3_dps"
   ]
  },
  {
   "cell_type": "markdown",
   "metadata": {},
   "source": [
    "### Deimos"
   ]
  },
  {
   "cell_type": "code",
   "execution_count": 69,
   "metadata": {},
   "outputs": [],
   "source": [
    "with open(r'C:\\Users\\DANIEL\\workspace\\gw2_srs\\GW2_SRS\\ETL\\EXTRACT_00\\Web Scraping\\Boss_data\\Wing_4\\Deimos\\20220901-145057_dei_kill.json') as file:\n",
    "    data = json.load(file)"
   ]
  },
  {
   "cell_type": "code",
   "execution_count": 70,
   "metadata": {},
   "outputs": [],
   "source": [
    "from100_to10_time_raw = data['phases'][1]['duration']\n",
    "from100_to10_time = round(from100_to10_time_raw/1000,1)\n",
    "\n",
    "from10_to0_time_raw = data['phases'][17]['duration']\n",
    "from10_to0_time = round(from10_to0_time_raw/1000,1)"
   ]
  },
  {
   "cell_type": "code",
   "execution_count": 71,
   "metadata": {},
   "outputs": [
    {
     "data": {
      "text/plain": [
       "(219.5, 35.9)"
      ]
     },
     "execution_count": 71,
     "metadata": {},
     "output_type": "execute_result"
    }
   ],
   "source": [
    "from100_to10_time,from10_to0_time"
   ]
  },
  {
   "cell_type": "code",
   "execution_count": 72,
   "metadata": {},
   "outputs": [],
   "source": [
    "from100_to10 = data['phases'][1]['dpsStats']\n",
    "from10_to0 = data['phases'][17]['dpsStats']"
   ]
  },
  {
   "cell_type": "code",
   "execution_count": 73,
   "metadata": {},
   "outputs": [
    {
     "data": {
      "text/plain": [
       "([[129604, 115745, 13859, 0.0],\n",
       "  [579906, 441659, 138247, 300.0],\n",
       "  [6102388, 5944511, 157877, 0.0],\n",
       "  [2022184, 1820227, 201957, 350.0],\n",
       "  [2691148, 356464, 2334684, 200.0],\n",
       "  [4348317, 854220, 3494097, 0.0],\n",
       "  [4567100, 703954, 3863146, 0.0],\n",
       "  [5425628, 5103951, 321677, 100.0],\n",
       "  [928259, 860626, 67633, 0.0],\n",
       "  [5990509, 1022850, 4967659, 0.0],\n",
       "  [0, 0, 0, 0.0]],\n",
       " [[3678, 3678, 0, 0.0],\n",
       "  [132307, 108958, 23349, 0.0],\n",
       "  [729723, 712577, 17146, 0.0],\n",
       "  [283663, 265791, 17872, 0.0],\n",
       "  [310420, 51495, 258925, 0.0],\n",
       "  [600667, 166309, 434358, 0.0],\n",
       "  [336128, 63403, 272725, 0.0],\n",
       "  [1105977, 1062200, 43777, 0.0],\n",
       "  [122065, 120418, 1647, 0.0],\n",
       "  [847680, 180806, 666874, 0.0],\n",
       "  [0, 0, 0, 0.0]])"
      ]
     },
     "execution_count": 73,
     "metadata": {},
     "output_type": "execute_result"
    }
   ],
   "source": [
    "from100_to10,from10_to0"
   ]
  },
  {
   "cell_type": "markdown",
   "metadata": {},
   "source": [
    "### SH_Deesmina"
   ]
  },
  {
   "cell_type": "code",
   "execution_count": 74,
   "metadata": {},
   "outputs": [],
   "source": [
    "with open(r'C:\\Users\\DANIEL\\workspace\\gw2_srs\\GW2_SRS\\ETL\\EXTRACT_00\\Web Scraping\\Boss_data\\Wing_5\\Soulless_Horror_Deesmina\\U9vZ-20220903-212233_sh.json') as file:\n",
    "    data = json.load(file)"
   ]
  },
  {
   "cell_type": "code",
   "execution_count": 75,
   "metadata": {},
   "outputs": [],
   "source": [
    "pre_breakbar1_time_raw = data['phases'][1]['duration']\n",
    "pre_breakbar1_time = round(pre_breakbar1_time_raw/1000,1)\n",
    "\n",
    "pre_breakbar2_time_raw = data['phases'][3]['duration']\n",
    "pre_breakbar2_time = round(pre_breakbar2_time_raw/1000,1)\n",
    "\n",
    "pre_breakbar3_time_raw = data['phases'][5]['duration']\n",
    "pre_breakbar3_time = round(pre_breakbar3_time_raw/1000,1)"
   ]
  },
  {
   "cell_type": "code",
   "execution_count": 76,
   "metadata": {},
   "outputs": [
    {
     "data": {
      "text/plain": [
       "(68.7, 50.4, 52.8)"
      ]
     },
     "execution_count": 76,
     "metadata": {},
     "output_type": "execute_result"
    }
   ],
   "source": [
    "pre_breakbar1_time,pre_breakbar2_time,pre_breakbar3_time"
   ]
  },
  {
   "cell_type": "code",
   "execution_count": 77,
   "metadata": {},
   "outputs": [],
   "source": [
    "pre_breakbar1 = data['phases'][1]['dpsStats']\n",
    "pre_breakbar2 = data['phases'][3]['dpsStats']\n",
    "pre_breakbar3 = data['phases'][5]['dpsStats']\n",
    "# Final is not found on json files, can be a separate stat"
   ]
  },
  {
   "cell_type": "code",
   "execution_count": 78,
   "metadata": {},
   "outputs": [
    {
     "data": {
      "text/plain": [
       "([[161982, 125618, 36364, 0.0],\n",
       "  [2031067, 2031067, 0, 0.0],\n",
       "  [206919, 124371, 82548, 0.0],\n",
       "  [2353146, 671998, 1681148, 0.0],\n",
       "  [2592396, 767663, 1824733, 0.0],\n",
       "  [275243, 248053, 27190, 0.0],\n",
       "  [347618, 256420, 91198, 0.0],\n",
       "  [2133014, 219687, 1913327, 0.0],\n",
       "  [2272271, 186327, 2085944, 0.0],\n",
       "  [1019935, 974878, 45057, 0.0]],\n",
       " [[90602, 61805, 28797, 0.0],\n",
       "  [1270693, 1268390, 2303, 0.0],\n",
       "  [149151, 92539, 56612, 0.0],\n",
       "  [1942375, 505009, 1437366, 0.0],\n",
       "  [1949111, 542305, 1406806, 0.0],\n",
       "  [155719, 140348, 15371, 0.0],\n",
       "  [236340, 184374, 51966, 0.0],\n",
       "  [1681256, 157759, 1523497, 0.0],\n",
       "  [1990659, 124432, 1866227, 0.0],\n",
       "  [599461, 585001, 14460, 0.0]],\n",
       " [[99526, 59651, 39875, 0.0],\n",
       "  [1249396, 1248574, 822, 0.0],\n",
       "  [126751, 65720, 61031, 0.0],\n",
       "  [1884720, 499218, 1385502, 0.0],\n",
       "  [1864001, 544415, 1319586, 0.0],\n",
       "  [172208, 156902, 15306, 0.0],\n",
       "  [287285, 217811, 69474, 0.0],\n",
       "  [1619044, 155517, 1463527, 0.0],\n",
       "  [1837262, 153453, 1683809, 0.0],\n",
       "  [539556, 525446, 14110, 0.0]])"
      ]
     },
     "execution_count": 78,
     "metadata": {},
     "output_type": "execute_result"
    }
   ],
   "source": [
    "pre_breakbar1,pre_breakbar2,pre_breakbar3"
   ]
  },
  {
   "cell_type": "markdown",
   "metadata": {},
   "source": [
    "### Dhuum"
   ]
  },
  {
   "cell_type": "code",
   "execution_count": 79,
   "metadata": {},
   "outputs": [],
   "source": [
    "with open(r'C:\\Users\\DANIEL\\workspace\\gw2_srs\\GW2_SRS\\ETL\\EXTRACT_00\\Web Scraping\\Boss_data\\Wing_5\\Dhuum\\20220826-013251_dhuum_kill.json') as file:\n",
    "    data = json.load(file)"
   ]
  },
  {
   "cell_type": "code",
   "execution_count": 80,
   "metadata": {},
   "outputs": [],
   "source": [
    "main_fight_time_raw = data['phases'][2]['duration']\n",
    "main_fight_time = round(main_fight_time_raw/1000,1)\n",
    "\n",
    "dhuum_fight_time_raw = data['phases'][3]['duration']\n",
    "dhuum_fight_time = round(dhuum_fight_time_raw/1000,1)\n",
    "\n",
    "ritual_time_raw = data['phases'][10]['duration']\n",
    "ritual_time = round(ritual_time_raw/1000,1)"
   ]
  },
  {
   "cell_type": "code",
   "execution_count": 81,
   "metadata": {},
   "outputs": [
    {
     "data": {
      "text/plain": [
       "(389.9, 312.7, 46.1)"
      ]
     },
     "execution_count": 81,
     "metadata": {},
     "output_type": "execute_result"
    }
   ],
   "source": [
    "main_fight_time,dhuum_fight_time,ritual_time"
   ]
  },
  {
   "cell_type": "code",
   "execution_count": 82,
   "metadata": {},
   "outputs": [],
   "source": [
    "main_fight = data['phases'][2]['dpsStats']\n",
    "dhuum_fight = data['phases'][3]['dpsStats']\n",
    "ritual = data['phases'][10]['dpsStats']"
   ]
  },
  {
   "cell_type": "code",
   "execution_count": 83,
   "metadata": {},
   "outputs": [
    {
     "data": {
      "text/plain": [
       "([[5992571, 649927, 5342644, 0.0],\n",
       "  [3247195, 3174424, 72771, 300.0],\n",
       "  [7365640, 7183284, 182356, 950.0],\n",
       "  [6035785, 694060, 5341725, 300.0],\n",
       "  [479501, 427220, 52281, 1204.0],\n",
       "  [1356872, 585288, 771584, 600.0],\n",
       "  [5275870, 5088723, 187147, 532.0],\n",
       "  [5428790, 662438, 4766352, 0.0],\n",
       "  [5806202, 1453152, 4353050, 200.0],\n",
       "  [4603985, 4482489, 121496, 0.0]],\n",
       " [[5142195, 572759, 4569436, 0.0],\n",
       "  [2877165, 2818564, 58601, 300.0],\n",
       "  [6763416, 6596693, 166723, 950.0],\n",
       "  [5309944, 626250, 4683694, 100.0],\n",
       "  [431464, 388764, 42700, 1004.0],\n",
       "  [1209759, 542687, 667072, 600.0],\n",
       "  [5275870, 5088723, 187147, 532.0],\n",
       "  [4856369, 590969, 4265400, 0.0],\n",
       "  [5120522, 1323063, 3797459, 200.0],\n",
       "  [4603985, 4482489, 121496, 0.0]],\n",
       " [[850376, 77168, 773208, 0.0],\n",
       "  [370030, 355860, 14170, 0.0],\n",
       "  [602224, 586591, 15633, 0.0],\n",
       "  [725841, 67810, 658031, 200.0],\n",
       "  [48037, 38456, 9581, 200.0],\n",
       "  [147113, 42601, 104512, 0.0],\n",
       "  [0, 0, 0, 0.0],\n",
       "  [572421, 71469, 500952, 0.0],\n",
       "  [684668, 129077, 555591, 0.0],\n",
       "  [0, 0, 0, 0.0]])"
      ]
     },
     "execution_count": 83,
     "metadata": {},
     "output_type": "execute_result"
    }
   ],
   "source": [
    "main_fight,dhuum_fight,ritual"
   ]
  },
  {
   "cell_type": "markdown",
   "metadata": {},
   "source": [
    "### CA"
   ]
  },
  {
   "cell_type": "code",
   "execution_count": 84,
   "metadata": {},
   "outputs": [],
   "source": [
    "with open(r'C:\\Users\\DANIEL\\workspace\\gw2_srs\\GW2_SRS\\ETL\\EXTRACT_00\\Web Scraping\\Boss_data\\Wing_6\\Conjured_Amalgamate\\A91D-20220829-195627_ca.json') as file:\n",
    "    data = json.load(file)"
   ]
  },
  {
   "cell_type": "code",
   "execution_count": 85,
   "metadata": {},
   "outputs": [],
   "source": [
    "burn1_time_raw = data['phases'][2]['duration']\n",
    "burn1_time = round(burn1_time_raw/1000,1)\n",
    "\n",
    "burn2_time_raw = data['phases'][4]['duration']\n",
    "burn2_time = round(burn2_time_raw/1000,1)\n",
    "\n",
    "burn3_time_raw = data['phases'][6]['duration']\n",
    "burn3_time = round(burn3_time_raw/1000,1)"
   ]
  },
  {
   "cell_type": "code",
   "execution_count": 86,
   "metadata": {},
   "outputs": [
    {
     "data": {
      "text/plain": [
       "(30.2, 15.0, 13.7)"
      ]
     },
     "execution_count": 86,
     "metadata": {},
     "output_type": "execute_result"
    }
   ],
   "source": [
    "burn1_time,burn2_time,burn3_time"
   ]
  },
  {
   "cell_type": "code",
   "execution_count": 87,
   "metadata": {},
   "outputs": [],
   "source": [
    "burn1 = data['phases'][2]['dpsStats']\n",
    "burn2 = data['phases'][4]['dpsStats']\n",
    "burn3 = data['phases'][6]['dpsStats']"
   ]
  },
  {
   "cell_type": "code",
   "execution_count": 88,
   "metadata": {},
   "outputs": [
    {
     "data": {
      "text/plain": [
       "([[97728, 56936, 40792, 0.0],\n",
       "  [2918409, 2843729, 74680, 0.0],\n",
       "  [1597715, 1570517, 27198, 0.0],\n",
       "  [2644371, 2584785, 59586, 0.0],\n",
       "  [2802878, 2690577, 112301, 0.0],\n",
       "  [2921785, 2746531, 175254, 0.0],\n",
       "  [1553975, 308691, 1245284, 0.0],\n",
       "  [2618751, 2577863, 40888, 0.0],\n",
       "  [1350482, 581092, 769390, 0.0],\n",
       "  [709273, 678230, 31043, 0.0],\n",
       "  [1817895, 1817895, 0, 0.0]],\n",
       " [[6552, 463, 6089, 0.0],\n",
       "  [1274445, 1243696, 30749, 0.0],\n",
       "  [581534, 567483, 14051, 0.0],\n",
       "  [1295060, 1259002, 36058, 0.0],\n",
       "  [881672, 851245, 30427, 0.0],\n",
       "  [843690, 802498, 41192, 0.0],\n",
       "  [460047, 106237, 353810, 0.0],\n",
       "  [1334805, 1318261, 16544, 0.0],\n",
       "  [251646, 172313, 79333, 0.0],\n",
       "  [6455, 6237, 218, 0.0],\n",
       "  [890245, 890245, 0, 0.0]],\n",
       " [[1476, 0, 1476, 0.0],\n",
       "  [732643, 729714, 2929, 0.0],\n",
       "  [581214, 575838, 5376, 0.0],\n",
       "  [871325, 858406, 12919, 0.0],\n",
       "  [1103859, 1069038, 34821, 0.0],\n",
       "  [950931, 886136, 64795, 0.0],\n",
       "  [668901, 107692, 561209, 0.0],\n",
       "  [1340420, 1328366, 12054, 0.0],\n",
       "  [669261, 276832, 392429, 0.0],\n",
       "  [260985, 252576, 8409, 0.0],\n",
       "  [1153001, 1153001, 0, 0.0]])"
      ]
     },
     "execution_count": 88,
     "metadata": {},
     "output_type": "execute_result"
    }
   ],
   "source": [
    "burn1,burn2,burn3"
   ]
  },
  {
   "cell_type": "markdown",
   "metadata": {},
   "source": [
    "### Twin_Largos"
   ]
  },
  {
   "cell_type": "code",
   "execution_count": 89,
   "metadata": {},
   "outputs": [],
   "source": [
    "with open(r'C:\\Users\\DANIEL\\workspace\\gw2_srs\\GW2_SRS\\ETL\\EXTRACT_00\\Web Scraping\\Boss_data\\Wing_6\\Twin_Largos\\20220906-204535_twinlargos_kill.json') as file:\n",
    "    data = json.load(file)"
   ]
  },
  {
   "cell_type": "code",
   "execution_count": 90,
   "metadata": {},
   "outputs": [],
   "source": [
    "nikare1_time_raw = data['phases'][1]['duration']\n",
    "nikare1_time = round(nikare1_time_raw/1000,1)\n",
    "kenut1_time_raw = data['phases'][2]['duration']\n",
    "kenut1_time = round(kenut1_time_raw/1000,1)\n",
    "\n",
    "nikare2_time_raw = data['phases'][3]['duration']\n",
    "nikare2_time = round(nikare2_time_raw/1000,1)\n",
    "kenut2_time_raw = data['phases'][4]['duration']\n",
    "kenut2_time = round(kenut2_time_raw/1000,1)\n",
    "\n",
    "nikare3_time_raw = data['phases'][7]['duration']\n",
    "nikare3_time = round(nikare3_time_raw/1000,1)\n",
    "kenut3_time_raw = data['phases'][8]['duration']\n",
    "kenut3_time = round(kenut3_time_raw/1000,1)"
   ]
  },
  {
   "cell_type": "code",
   "execution_count": 91,
   "metadata": {},
   "outputs": [
    {
     "data": {
      "text/plain": [
       "(50.5, 49.0, 60.3, 66.9, 71.6, 65.9)"
      ]
     },
     "execution_count": 91,
     "metadata": {},
     "output_type": "execute_result"
    }
   ],
   "source": [
    "nikare1_time,kenut1_time,nikare2_time,kenut2_time,nikare3_time,kenut3_time"
   ]
  },
  {
   "cell_type": "code",
   "execution_count": 92,
   "metadata": {},
   "outputs": [],
   "source": [
    "nikare1 = data['phases'][1]['dpsStats']\n",
    "kenut1 = data['phases'][2]['dpsStats']\n",
    "\n",
    "nikare2 = data['phases'][3]['dpsStats']\n",
    "kenut2 = data['phases'][4]['dpsStats']\n",
    "\n",
    "nikare3 = data['phases'][7]['dpsStats']\n",
    "kenut3 = data['phases'][8]['dpsStats']"
   ]
  },
  {
   "cell_type": "code",
   "execution_count": 93,
   "metadata": {},
   "outputs": [
    {
     "data": {
      "text/plain": [
       "([[828551, 233766, 594785, 0.0],\n",
       "  [1284559, 1214918, 69641, 0.0],\n",
       "  [837018, 112148, 724870, 0.0],\n",
       "  [207111, 147919, 59192, 0.0],\n",
       "  [1235076, 83503, 1151573, 0.0],\n",
       "  [1272645, 417222, 855423, 0.0],\n",
       "  [209978, 138598, 71380, 0.0],\n",
       "  [793016, 126887, 666129, 0.0],\n",
       "  [1341694, 1276360, 65334, 0.0],\n",
       "  [655335, 96969, 558366, 0.0]],\n",
       " [[827482, 207917, 619565, 0.0],\n",
       "  [1068521, 1015192, 53329, 0.0],\n",
       "  [780083, 98274, 681809, 0.0],\n",
       "  [112749, 102979, 9770, 0.0],\n",
       "  [800390, 54540, 745850, 0.0],\n",
       "  [1165632, 338431, 827201, 0.0],\n",
       "  [207801, 146367, 61434, 0.0],\n",
       "  [1120161, 138771, 981390, 0.0],\n",
       "  [1007652, 961056, 46596, 0.0],\n",
       "  [727789, 109032, 618757, 0.0]],\n",
       " [[983859, 263672, 720187, 400.0],\n",
       "  [720456, 693162, 27294, 332.0],\n",
       "  [516312, 80026, 436286, 150.0],\n",
       "  [117858, 54322, 63536, 100.0],\n",
       "  [1218933, 75140, 1143793, 500.0],\n",
       "  [1029573, 351451, 678122, 750.0],\n",
       "  [306722, 191269, 115453, 380.0],\n",
       "  [1129422, 152626, 976796, 0.0],\n",
       "  [0, 0, 0, 0.0],\n",
       "  [840922, 134895, 706027, 150.0]],\n",
       " [[983859, 263672, 720187, 400.0],\n",
       "  [720456, 693162, 27294, 332.0],\n",
       "  [516312, 80026, 436286, 150.0],\n",
       "  [117197, 53661, 63536, 100.0],\n",
       "  [1218933, 75140, 1143793, 500.0],\n",
       "  [1207945, 398078, 809867, 750.0],\n",
       "  [371515, 227972, 143543, 380.0],\n",
       "  [1327215, 182029, 1145186, 0.0],\n",
       "  [0, 0, 0, 0.0],\n",
       "  [1011769, 163333, 848436, 150.0]],\n",
       " [[1047279, 259737, 787542, 550.0],\n",
       "  [1101474, 1035624, 65850, 332.0],\n",
       "  [693427, 104093, 589334, 150.0],\n",
       "  [135158, 64499, 70659, 0.0],\n",
       "  [1199688, 66288, 1133400, 400.0],\n",
       "  [986636, 342825, 643811, 900.0],\n",
       "  [246502, 167105, 79397, 490.0],\n",
       "  [1243407, 168346, 1075061, 0.0],\n",
       "  [0, 0, 0, 0.0],\n",
       "  [893174, 114717, 778457, 150.0]],\n",
       " [[1037308, 252223, 785085, 550.0],\n",
       "  [1066392, 1001019, 65373, 332.0],\n",
       "  [671227, 97605, 573622, 150.0],\n",
       "  [135158, 64499, 70659, 0.0],\n",
       "  [1192083, 66288, 1125795, 400.0],\n",
       "  [1004561, 344252, 660309, 900.0],\n",
       "  [254567, 170899, 83668, 490.0],\n",
       "  [1270653, 168346, 1102307, 0.0],\n",
       "  [0, 0, 0, 0.0],\n",
       "  [912584, 117813, 794771, 150.0]])"
      ]
     },
     "execution_count": 93,
     "metadata": {},
     "output_type": "execute_result"
    }
   ],
   "source": [
    "nikare1,kenut1,nikare2,kenut2,nikare3,kenut3"
   ]
  },
  {
   "cell_type": "markdown",
   "metadata": {},
   "source": [
    "### Qadim_1"
   ]
  },
  {
   "cell_type": "code",
   "execution_count": 94,
   "metadata": {},
   "outputs": [],
   "source": [
    "with open(r'C:\\Users\\DANIEL\\workspace\\gw2_srs\\GW2_SRS\\ETL\\EXTRACT_00\\Web Scraping\\Boss_data\\Wing_6\\Qadim\\20220905-185326_qadim_kill.json') as file:\n",
    "    data = json.load(file)"
   ]
  },
  {
   "cell_type": "code",
   "execution_count": 95,
   "metadata": {},
   "outputs": [],
   "source": [
    "qadimP1_time_raw = data['phases'][4]['duration']\n",
    "qadimP1_time = round(qadimP1_time_raw/1000,1)\n",
    "\n",
    "qadimP2_time_raw = data['phases'][8]['duration']\n",
    "qadimP2_time = round(qadimP2_time_raw/1000,1)\n",
    "\n",
    "qadimP3_time_raw = data['phases'][11]['duration']\n",
    "qadimP3_time = round(qadimP3_time_raw/1000,1)"
   ]
  },
  {
   "cell_type": "code",
   "execution_count": 96,
   "metadata": {},
   "outputs": [
    {
     "data": {
      "text/plain": [
       "(36.6, 37.6, 36.9)"
      ]
     },
     "execution_count": 96,
     "metadata": {},
     "output_type": "execute_result"
    }
   ],
   "source": [
    "qadimP1_time,qadimP2_time,qadimP3_time"
   ]
  },
  {
   "cell_type": "code",
   "execution_count": 97,
   "metadata": {},
   "outputs": [],
   "source": [
    "qadimP1 = data['phases'][4]['dpsStats']\n",
    "qadimP2 = data['phases'][8]['dpsStats']\n",
    "qadimP3 = data['phases'][11]['dpsStats']"
   ]
  },
  {
   "cell_type": "code",
   "execution_count": 98,
   "metadata": {},
   "outputs": [
    {
     "data": {
      "text/plain": [
       "([[1173163, 1170615, 2548, 0.0],\n",
       "  [1176565, 1133810, 42755, 0.0],\n",
       "  [1080989, 1042908, 38081, 0.0],\n",
       "  [168686, 166807, 1879, 0.0],\n",
       "  [321037, 137953, 183084, 0.0],\n",
       "  [615274, 608189, 7085, 0.0],\n",
       "  [85634, 85634, 0, 0.0],\n",
       "  [1072329, 1031579, 40750, 0.0],\n",
       "  [791275, 787899, 3376, 0.0],\n",
       "  [1087727, 1076337, 11390, 0.0]],\n",
       " [[1294169, 1291521, 2648, 0.0],\n",
       "  [1062298, 1024313, 37985, 0.0],\n",
       "  [737414, 714010, 23404, 0.0],\n",
       "  [144361, 141587, 2774, 0.0],\n",
       "  [349453, 126814, 222639, 0.0],\n",
       "  [583486, 577784, 5702, 0.0],\n",
       "  [80744, 80744, 0, 0.0],\n",
       "  [1169442, 1126191, 43251, 0.0],\n",
       "  [900309, 892987, 7322, 0.0],\n",
       "  [1030327, 1018468, 11859, 0.0]],\n",
       " [[935721, 933261, 2460, 0.0],\n",
       "  [882998, 841869, 41129, 0.0],\n",
       "  [845701, 817626, 28075, 0.0],\n",
       "  [118982, 116835, 2147, 0.0],\n",
       "  [290939, 85509, 205430, 0.0],\n",
       "  [456409, 453366, 3043, 0.0],\n",
       "  [61305, 61305, 0, 0.0],\n",
       "  [1018533, 975263, 43270, 0.0],\n",
       "  [1057580, 1053464, 4116, 0.0],\n",
       "  [697366, 691984, 5382, 0.0]])"
      ]
     },
     "execution_count": 98,
     "metadata": {},
     "output_type": "execute_result"
    }
   ],
   "source": [
    "qadimP1,qadimP2,qadimP3"
   ]
  },
  {
   "cell_type": "markdown",
   "metadata": {},
   "source": [
    "### Adina"
   ]
  },
  {
   "cell_type": "code",
   "execution_count": 99,
   "metadata": {},
   "outputs": [],
   "source": [
    "with open(r'C:\\Users\\DANIEL\\workspace\\gw2_srs\\GW2_SRS\\ETL\\EXTRACT_00\\Web Scraping\\Boss_data\\Wing_7\\Cardinal_Adina\\20220905-213817_adina_kill.json') as file:\n",
    "    data = json.load(file)"
   ]
  },
  {
   "cell_type": "code",
   "execution_count": 100,
   "metadata": {},
   "outputs": [],
   "source": [
    "phase1_time_raw = data['phases'][1]['duration']\n",
    "phase1_time = round(phase1_time_raw/1000,1)\n",
    "\n",
    "phase2_time_raw = data['phases'][3]['duration']\n",
    "phase2_time = round(phase2_time_raw/1000,1)\n",
    "\n",
    "phase3_time_raw = data['phases'][5]['duration']\n",
    "phase3_time = round(phase3_time_raw/1000,1)\n",
    "\n",
    "phase4_time_raw = data['phases'][7]['duration']\n",
    "phase4_time = round(phase4_time_raw/1000,1)"
   ]
  },
  {
   "cell_type": "code",
   "execution_count": 101,
   "metadata": {},
   "outputs": [
    {
     "data": {
      "text/plain": [
       "(27.5, 37.6, 29.0, 35.6)"
      ]
     },
     "execution_count": 101,
     "metadata": {},
     "output_type": "execute_result"
    }
   ],
   "source": [
    "phase1_time,phase2_time,phase3_time,phase4_time"
   ]
  },
  {
   "cell_type": "code",
   "execution_count": 102,
   "metadata": {},
   "outputs": [],
   "source": [
    "phase1_dps = data['phases'][1]['dpsStats']\n",
    "phase2_dps = data['phases'][3]['dpsStats']\n",
    "phase3_dps = data['phases'][5]['dpsStats']\n",
    "phase4_dps = data['phases'][7]['dpsStats']"
   ]
  },
  {
   "cell_type": "code",
   "execution_count": 103,
   "metadata": {},
   "outputs": [
    {
     "data": {
      "text/plain": [
       "([[585900, 557887, 28013, 0.0],\n",
       "  [881718, 881498, 220, 0.0],\n",
       "  [414120, 62922, 351198, 0.0],\n",
       "  [742455, 702862, 39593, 0.0],\n",
       "  [77328, 56699, 20629, 0.0],\n",
       "  [413336, 356077, 57259, 0.0],\n",
       "  [826907, 134260, 692647, 0.0],\n",
       "  [568137, 533826, 34311, 0.0],\n",
       "  [712945, 665459, 47486, 0.0],\n",
       "  [469315, 71148, 398167, 0.0]],\n",
       " [[610250, 588948, 21302, 0.0],\n",
       "  [511142, 510266, 876, 0.0],\n",
       "  [458731, 80087, 378644, 0.0],\n",
       "  [893367, 845501, 47866, 0.0],\n",
       "  [67518, 61407, 6111, 0.0],\n",
       "  [441343, 380136, 61207, 0.0],\n",
       "  [781882, 122244, 659638, 0.0],\n",
       "  [695325, 663823, 31502, 0.0],\n",
       "  [794884, 753518, 41366, 0.0],\n",
       "  [442458, 67553, 374905, 0.0]],\n",
       " [[647435, 617743, 29692, 0.0],\n",
       "  [789487, 789206, 281, 0.0],\n",
       "  [459375, 87760, 371615, 0.0],\n",
       "  [721750, 690125, 31625, 0.0],\n",
       "  [33710, 28773, 4937, 0.0],\n",
       "  [407033, 353250, 53783, 0.0],\n",
       "  [816758, 136517, 680241, 0.0],\n",
       "  [692511, 655142, 37369, 0.0],\n",
       "  [697156, 651843, 45313, 0.0],\n",
       "  [497616, 76738, 420878, 0.0]],\n",
       " [[739770, 702144, 37626, 0.0],\n",
       "  [701991, 701991, 0, 0.0],\n",
       "  [408353, 64196, 344157, 0.0],\n",
       "  [688552, 661918, 26634, 0.0],\n",
       "  [30714, 24249, 6465, 0.0],\n",
       "  [414464, 360483, 53981, 0.0],\n",
       "  [733797, 113784, 620013, 0.0],\n",
       "  [816159, 783090, 33069, 0.0],\n",
       "  [704329, 661492, 42837, 0.0],\n",
       "  [443638, 74524, 369114, 0.0]])"
      ]
     },
     "execution_count": 103,
     "metadata": {},
     "output_type": "execute_result"
    }
   ],
   "source": [
    "phase1_dps,phase2_dps,phase3_dps,phase4_dps"
   ]
  },
  {
   "cell_type": "markdown",
   "metadata": {},
   "source": [
    "### Sabir"
   ]
  },
  {
   "cell_type": "code",
   "execution_count": 104,
   "metadata": {},
   "outputs": [],
   "source": [
    "with open(r'C:\\Users\\DANIEL\\workspace\\gw2_srs\\GW2_SRS\\ETL\\EXTRACT_00\\Web Scraping\\Boss_data\\Wing_7\\Cardinal_Sabir\\20220902-191510_sabir_kill.json') as file:\n",
    "    data = json.load(file)"
   ]
  },
  {
   "cell_type": "code",
   "execution_count": 105,
   "metadata": {},
   "outputs": [],
   "source": [
    "phase1_time_raw = data['phases'][1]['duration']\n",
    "phase1_time = round(phase1_time_raw/1000,1)\n",
    "\n",
    "phase2_time_raw = data['phases'][3]['duration']\n",
    "phase2_time = round(phase2_time_raw/1000,1)\n",
    "\n",
    "phase3_time_raw = data['phases'][5]['duration']\n",
    "phase3_time = round(phase3_time_raw/1000,1)"
   ]
  },
  {
   "cell_type": "code",
   "execution_count": 106,
   "metadata": {},
   "outputs": [
    {
     "data": {
      "text/plain": [
       "(30.0, 40.5, 84.2)"
      ]
     },
     "execution_count": 106,
     "metadata": {},
     "output_type": "execute_result"
    }
   ],
   "source": [
    "phase1_time,phase2_time,phase3_time"
   ]
  },
  {
   "cell_type": "code",
   "execution_count": 107,
   "metadata": {},
   "outputs": [],
   "source": [
    "phase1_dps = data['phases'][1]['dpsStats']\n",
    "phase2_dps = data['phases'][3]['dpsStats']\n",
    "phase3_dps = data['phases'][5]['dpsStats']"
   ]
  },
  {
   "cell_type": "code",
   "execution_count": 108,
   "metadata": {},
   "outputs": [
    {
     "data": {
      "text/plain": [
       "([[810782, 764301, 46481, 1082.0],\n",
       "  [451402, 83928, 367474, 1150.0],\n",
       "  [105661, 87335, 18326, 1392.0],\n",
       "  [809186, 759388, 49798, 932.0],\n",
       "  [789115, 737201, 51914, 1764.0],\n",
       "  [822248, 762863, 59385, 1532.0],\n",
       "  [265508, 61551, 203957, 650.0],\n",
       "  [482404, 420987, 61417, 2320.0],\n",
       "  [690330, 653071, 37259, 1814.0],\n",
       "  [636672, 579254, 57418, 1032.0]],\n",
       " [[801556, 751117, 50439, 1682.0],\n",
       "  [457814, 61460, 396354, 650.0],\n",
       "  [99466, 81783, 17683, 1290.0],\n",
       "  [785667, 727559, 58108, 1432.0],\n",
       "  [850239, 796649, 53590, 1032.0],\n",
       "  [757999, 705797, 52202, 1432.0],\n",
       "  [220150, 29307, 190843, 650.0],\n",
       "  [505024, 435388, 69636, 2090.0],\n",
       "  [818116, 780634, 37482, 2278.0],\n",
       "  [627525, 570797, 56728, 1532.0]],\n",
       " [[2255724, 2113736, 141988, 1614.0],\n",
       "  [1563362, 234905, 1328457, 1150.0],\n",
       "  [232484, 201972, 30512, 2172.0],\n",
       "  [2411735, 2245649, 166086, 1246.0],\n",
       "  [2413566, 2251278, 162288, 2628.0],\n",
       "  [2442140, 2274859, 167281, 4278.0],\n",
       "  [812407, 150847, 661560, 1650.0],\n",
       "  [1425208, 1247153, 178055, 1770.0],\n",
       "  [2089755, 1992670, 97085, 3310.0],\n",
       "  [2002448, 1831520, 170928, 2928.0]])"
      ]
     },
     "execution_count": 108,
     "metadata": {},
     "output_type": "execute_result"
    }
   ],
   "source": [
    "phase1_dps,phase2_dps,phase3_dps"
   ]
  },
  {
   "cell_type": "markdown",
   "metadata": {},
   "source": [
    "### Qadim_2"
   ]
  },
  {
   "cell_type": "code",
   "execution_count": 114,
   "metadata": {},
   "outputs": [],
   "source": [
    "with open(r'C:\\Users\\DANIEL\\workspace\\gw2_srs\\GW2_SRS\\ETL\\EXTRACT_00\\Web Scraping\\Boss_data\\Wing_7\\Qadim_The_Peerless\\20220829-102116_prlqadim_kill.json') as file:\n",
    "    data = json.load(file)"
   ]
  },
  {
   "cell_type": "code",
   "execution_count": 115,
   "metadata": {},
   "outputs": [],
   "source": [
    "phase1_time_raw = data['phases'][1]['duration']\n",
    "phase1_time = round(phase1_time_raw/1000,1)\n",
    "\n",
    "phase2_time_raw = data['phases'][3]['duration']\n",
    "phase2_time = round(phase2_time_raw/1000,1)\n",
    "\n",
    "phase3_time_raw = data['phases'][6]['duration']\n",
    "phase3_time = round(phase3_time_raw/1000,1)\n",
    "\n",
    "phase4_time_raw = data['phases'][9]['duration']\n",
    "phase4_time = round(phase4_time_raw/1000,1)\n",
    "\n",
    "phase5_time_raw = data['phases'][11]['duration']\n",
    "phase5_time = round(phase5_time_raw/1000,1)\n",
    "\n",
    "phase6_time_raw = data['phases'][13]['duration']\n",
    "phase6_time = round(phase6_time_raw/1000,1)"
   ]
  },
  {
   "cell_type": "code",
   "execution_count": 117,
   "metadata": {},
   "outputs": [
    {
     "data": {
      "text/plain": [
       "(45.4, 42.1, 41.8, 24.7, 28.0, 56.6)"
      ]
     },
     "execution_count": 117,
     "metadata": {},
     "output_type": "execute_result"
    }
   ],
   "source": [
    "phase1_time,phase2_time,phase3_time,phase4_time,phase5_time,phase6_time"
   ]
  },
  {
   "cell_type": "code",
   "execution_count": 112,
   "metadata": {},
   "outputs": [],
   "source": [
    "phase1_dps = data['phases'][1]['dpsStats']\n",
    "phase2_dps = data['phases'][3]['dpsStats']\n",
    "phase3_dps = data['phases'][6]['dpsStats']\n",
    "phase4_dps = data['phases'][9]['dpsStats']\n",
    "phase5_dps = data['phases'][11]['dpsStats']\n",
    "phase6_dps = data['phases'][13]['dpsStats']"
   ]
  },
  {
   "cell_type": "code",
   "execution_count": 113,
   "metadata": {},
   "outputs": [
    {
     "data": {
      "text/plain": [
       "([[87122, 71887, 15235, 0.0],\n",
       "  [203461, 178645, 24816, 0.0],\n",
       "  [1338559, 1276820, 61739, 0.0],\n",
       "  [1179873, 1172136, 7737, 0.0],\n",
       "  [1688017, 191679, 1496338, 0.0],\n",
       "  [1141365, 1131736, 9629, 0.0],\n",
       "  [875893, 870484, 5409, 0.0],\n",
       "  [1698170, 316849, 1381321, 0.0],\n",
       "  [131274, 109225, 22049, 0.0],\n",
       "  [952338, 162279, 790059, 0.0]],\n",
       " [[95230, 87597, 7633, 250.0],\n",
       "  [205985, 175378, 30607, 460.0],\n",
       "  [1446108, 1382331, 63777, 764.0],\n",
       "  [1065565, 1061032, 4533, 0.0],\n",
       "  [1569570, 180577, 1388993, 0.0],\n",
       "  [1051291, 1047184, 4107, 0.0],\n",
       "  [704768, 694990, 9778, 0.0],\n",
       "  [1457337, 250292, 1207045, 150.0],\n",
       "  [126431, 80368, 46063, 150.0],\n",
       "  [828946, 162096, 666850, 150.0]],\n",
       " [[107000, 95509, 11491, 100.0],\n",
       "  [185789, 167559, 18230, 362.0],\n",
       "  [1306680, 1256949, 49731, 0.0],\n",
       "  [1151212, 1147297, 3915, 0.0],\n",
       "  [1546467, 182230, 1364237, 0.0],\n",
       "  [1186098, 1178619, 7479, 0.0],\n",
       "  [970152, 962781, 7371, 0.0],\n",
       "  [1652036, 310302, 1341734, 0.0],\n",
       "  [157954, 100181, 57773, 0.0],\n",
       "  [917199, 151741, 765458, 0.0]],\n",
       " [[32332, 24573, 7759, 150.0],\n",
       "  [37985, 37985, 0, 0.0],\n",
       "  [434882, 414990, 19892, 332.0],\n",
       "  [382957, 380867, 2090, 150.0],\n",
       "  [440038, 56080, 383958, 250.0],\n",
       "  [414293, 411810, 2483, 260.0],\n",
       "  [260175, 256216, 3959, 0.0],\n",
       "  [455893, 76839, 379054, 0.0],\n",
       "  [32606, 27740, 4866, 300.0],\n",
       "  [235568, 54412, 181156, 300.0]],\n",
       " [[47798, 45110, 2688, 0.0],\n",
       "  [45783, 41701, 4082, 382.0],\n",
       "  [538672, 524412, 14260, 332.0],\n",
       "  [246256, 242980, 3276, 150.0],\n",
       "  [631814, 82378, 549436, 0.0],\n",
       "  [473840, 471791, 2049, 260.0],\n",
       "  [359778, 357499, 2279, 0.0],\n",
       "  [716658, 156810, 559848, 0.0],\n",
       "  [56590, 35254, 21336, 150.0],\n",
       "  [247222, 60059, 187163, 0.0]],\n",
       " [[102234, 91527, 10707, 0.0],\n",
       "  [183998, 165513, 18485, 512.0],\n",
       "  [606552, 586953, 19599, 1296.0],\n",
       "  [1301501, 1294577, 6924, 0.0],\n",
       "  [1098120, 181157, 916963, 200.0],\n",
       "  [739364, 736275, 3089, 0.0],\n",
       "  [823157, 816397, 6760, 0.0],\n",
       "  [1210984, 240680, 970304, 0.0],\n",
       "  [108127, 64448, 43679, 300.0],\n",
       "  [636519, 142661, 493858, 0.0]])"
      ]
     },
     "execution_count": 113,
     "metadata": {},
     "output_type": "execute_result"
    }
   ],
   "source": [
    "phase1_dps,phase2_dps,phase3_dps,phase4_dps,phase5_dps,phase6_dps"
   ]
  }
 ],
 "metadata": {
  "kernelspec": {
   "display_name": "Python 3.10.6 64-bit",
   "language": "python",
   "name": "python3"
  },
  "language_info": {
   "codemirror_mode": {
    "name": "ipython",
    "version": 3
   },
   "file_extension": ".py",
   "mimetype": "text/x-python",
   "name": "python",
   "nbconvert_exporter": "python",
   "pygments_lexer": "ipython3",
   "version": "3.10.6"
  },
  "orig_nbformat": 4,
  "vscode": {
   "interpreter": {
    "hash": "acf8403819adfe497959fb7d2d03e26c50ad436fbbc78e6c84d8efa62b34f3d9"
   }
  }
 },
 "nbformat": 4,
 "nbformat_minor": 2
}
