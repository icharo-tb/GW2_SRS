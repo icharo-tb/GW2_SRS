{
 "cells": [
  {
   "cell_type": "code",
   "execution_count": 1,
   "metadata": {},
   "outputs": [],
   "source": [
    "import pandas as pd\n",
    "import json"
   ]
  },
  {
   "cell_type": "markdown",
   "metadata": {},
   "source": [
    "### VG"
   ]
  },
  {
   "cell_type": "code",
   "execution_count": 2,
   "metadata": {},
   "outputs": [],
   "source": [
    "with open(r'C:\\Users\\DANIEL\\workspace\\gw2_srs\\GW2_SRS\\ETL\\EXTRACT_00\\Web Scraping\\Boss_data\\Wing_1\\Valley_Guardian\\20220823-171406_vg_kill.json') as file:\n",
    "    data = json.load(file)"
   ]
  },
  {
   "cell_type": "code",
   "execution_count": null,
   "metadata": {},
   "outputs": [],
   "source": [
    "phase1_time_raw = data['phases'][1]['duration']\n",
    "phase1_time = round(phase1_time_raw/1000,1)\n",
    "\n",
    "phase2_time_raw = data['phases'][6]['duration']\n",
    "phase2_time = round(phase2_time_raw/1000,1)\n",
    "\n",
    "phase3_time_raw = data['phases'][12]['duration']\n",
    "phase3_time = round(phase3_time_raw/1000,1)"
   ]
  },
  {
   "cell_type": "code",
   "execution_count": null,
   "metadata": {},
   "outputs": [],
   "source": [
    "phase1_dps = data['phases'][1]['dpsStats']\n",
    "phase2_dps = data['phases'][6]['dpsStats']\n",
    "phase3_dps = data['phases'][12]['dpsStats']"
   ]
  },
  {
   "cell_type": "markdown",
   "metadata": {},
   "source": [
    "### Gorseval"
   ]
  },
  {
   "cell_type": "code",
   "execution_count": null,
   "metadata": {},
   "outputs": [],
   "source": [
    "phase1_time_raw = data['phases'][1]['duration']\n",
    "phase1_time = round(phase1_time_raw/1000,1)\n",
    "\n",
    "phase2_time_raw = data['phases'][4]['duration']\n",
    "phase2_time = round(phase2_time_raw/1000,1)\n",
    "\n",
    "phase3_time_raw = data['phases'][7]['duration']\n",
    "phase3_time = round(phase3_time_raw/1000,1)"
   ]
  },
  {
   "cell_type": "code",
   "execution_count": null,
   "metadata": {},
   "outputs": [],
   "source": [
    "phase1_dps = data['phases'][1]['dpsStats']\n",
    "phase2_dps = data['phases'][4]['dpsStats']\n",
    "phase3_dps = data['phases'][7]['dpsStats']"
   ]
  },
  {
   "cell_type": "markdown",
   "metadata": {},
   "source": [
    "### Sabetha"
   ]
  },
  {
   "cell_type": "code",
   "execution_count": null,
   "metadata": {},
   "outputs": [],
   "source": [
    "phase1_time_raw = data['phases'][1]['duration']\n",
    "phase1_time = round(phase1_time_raw/1000,1)\n",
    "\n",
    "phase2_time_raw = data['phases'][3]['duration']\n",
    "phase2_time = round(phase2_time_raw/1000,1)\n",
    "\n",
    "phase3_time_raw = data['phases'][6]['duration']\n",
    "phase3_time = round(phase3_time_raw/1000,1)\n",
    "\n",
    "phase4_time_raw = data['phases'][9]['duration']\n",
    "phase4_time = round(phase4_time_raw/1000,1)"
   ]
  },
  {
   "cell_type": "code",
   "execution_count": null,
   "metadata": {},
   "outputs": [],
   "source": [
    "phase1_dps = data['phases'][1]['dpsStats']\n",
    "phase2_dps = data['phases'][3]['dpsStats']\n",
    "phase3_dps = data['phases'][6]['dpsStats']\n",
    "phase4_dps = data['phases'][9]['dpsStats']"
   ]
  },
  {
   "cell_type": "markdown",
   "metadata": {},
   "source": [
    "### Sloth"
   ]
  },
  {
   "cell_type": "code",
   "execution_count": null,
   "metadata": {},
   "outputs": [],
   "source": [
    "phase1_time_raw = data['phases'][1]['duration']\n",
    "phase1_time = round(phase1_time_raw/1000,1)\n",
    "\n",
    "phase2_time_raw = data['phases'][3]['duration']\n",
    "phase2_time = round(phase2_time_raw/1000,1)\n",
    "\n",
    "phase3_time_raw = data['phases'][5]['duration']\n",
    "phase3_time = round(phase3_time_raw/1000,1)\n",
    "\n",
    "phase4_time_raw = data['phases'][7]['duration']\n",
    "phase4_time = round(phase4_time_raw/1000,1)\n",
    "\n",
    "phase5_time_raw = data['phases'][9]['duration']\n",
    "phase5_time = round(phase5_time_raw/1000,1)\n",
    "\n",
    "phase6_time_raw = data['phases'][11]['duration']\n",
    "phase6_time = round(phase6_time_raw/1000,1)"
   ]
  },
  {
   "cell_type": "code",
   "execution_count": null,
   "metadata": {},
   "outputs": [],
   "source": [
    "phase1_dps = data['phases'][1]['dpsStats']\n",
    "phase2_dps = data['phases'][3]['dpsStats']\n",
    "phase3_dps = data['phases'][5]['dpsStats']\n",
    "phase4_dps = data['phases'][7]['dpsStats']\n",
    "phase5_dps = data['phases'][9]['dpsStats']\n",
    "phase6_dps = data['phases'][11]['dpsStats']"
   ]
  },
  {
   "cell_type": "markdown",
   "metadata": {},
   "source": [
    "### Matthias"
   ]
  },
  {
   "cell_type": "code",
   "execution_count": null,
   "metadata": {},
   "outputs": [],
   "source": [
    "ice_phase_time_raw = data['phases'][1]['duration']\n",
    "ice_phase_time = round(ice_phase_time_raw/1000,1)\n",
    "\n",
    "fire_phase_time_raw = data['phases'][3]['duration']\n",
    "fire_phase_time = round(fire_phase_time_raw/1000,1)\n",
    "\n",
    "storm_phase_time_raw = data['phases'][5]['duration']\n",
    "storm_phase_time = round(storm_phase_time_raw/1000,1)\n",
    "\n",
    "abomination_phase_time_raw = data['phases'][6]['duration']\n",
    "abomination_phase_time = round(abomination_phase_time_raw/1000,1)"
   ]
  },
  {
   "cell_type": "code",
   "execution_count": null,
   "metadata": {},
   "outputs": [],
   "source": [
    "ice_phase = data['phases'][1]['dpsStats']\n",
    "fire_phase = data['phases'][3]['dpsStats']\n",
    "storm_phase = data['phases'][5]['dpsStats']\n",
    "abomination_phase = data['phases'][6]['dpsStats']"
   ]
  },
  {
   "cell_type": "markdown",
   "metadata": {},
   "source": [
    "### KC"
   ]
  },
  {
   "cell_type": "markdown",
   "metadata": {},
   "source": [
    "### Xera"
   ]
  },
  {
   "cell_type": "markdown",
   "metadata": {},
   "source": [
    "### Cairn"
   ]
  },
  {
   "cell_type": "markdown",
   "metadata": {},
   "source": [
    "### Mursaat"
   ]
  },
  {
   "cell_type": "markdown",
   "metadata": {},
   "source": [
    "### Samarog"
   ]
  },
  {
   "cell_type": "markdown",
   "metadata": {},
   "source": [
    "### Deimos"
   ]
  },
  {
   "cell_type": "markdown",
   "metadata": {},
   "source": [
    "### SH_Deesmina"
   ]
  },
  {
   "cell_type": "markdown",
   "metadata": {},
   "source": [
    "### Dhuum"
   ]
  },
  {
   "cell_type": "markdown",
   "metadata": {},
   "source": [
    "### CA"
   ]
  },
  {
   "cell_type": "markdown",
   "metadata": {},
   "source": [
    "### Twin_Largos"
   ]
  },
  {
   "cell_type": "markdown",
   "metadata": {},
   "source": [
    "### Qadim_1"
   ]
  },
  {
   "cell_type": "markdown",
   "metadata": {},
   "source": [
    "### Adina"
   ]
  },
  {
   "cell_type": "markdown",
   "metadata": {},
   "source": [
    "### Sabir"
   ]
  },
  {
   "cell_type": "markdown",
   "metadata": {},
   "source": [
    "### Qadim_2"
   ]
  }
 ],
 "metadata": {
  "kernelspec": {
   "display_name": "Python 3.10.6 64-bit",
   "language": "python",
   "name": "python3"
  },
  "language_info": {
   "codemirror_mode": {
    "name": "ipython",
    "version": 3
   },
   "file_extension": ".py",
   "mimetype": "text/x-python",
   "name": "python",
   "nbconvert_exporter": "python",
   "pygments_lexer": "ipython3",
   "version": "3.10.6"
  },
  "orig_nbformat": 4,
  "vscode": {
   "interpreter": {
    "hash": "acf8403819adfe497959fb7d2d03e26c50ad436fbbc78e6c84d8efa62b34f3d9"
   }
  }
 },
 "nbformat": 4,
 "nbformat_minor": 2
}
