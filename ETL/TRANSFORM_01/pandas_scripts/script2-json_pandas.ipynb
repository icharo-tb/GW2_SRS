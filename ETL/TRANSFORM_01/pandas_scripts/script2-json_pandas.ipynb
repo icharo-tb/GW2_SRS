{
 "cells": [
  {
   "cell_type": "code",
   "execution_count": 40,
   "metadata": {},
   "outputs": [],
   "source": [
    "import pandas as pd\n",
    "import json"
   ]
  },
  {
   "cell_type": "code",
   "execution_count": 41,
   "metadata": {},
   "outputs": [],
   "source": [
    "pd.set_option('display.max_columns', 999)"
   ]
  },
  {
   "cell_type": "code",
   "execution_count": 42,
   "metadata": {},
   "outputs": [],
   "source": [
    "with open(r'C:\\Users\\DANIEL\\workspace\\gw2_srs\\GW2_SRS\\ETL\\EXTRACT_00\\Web Scraping\\Boss_data\\Wing_1\\Valley_Guardian\\20220823-171406_vg_kill.json') as file:\n",
    "    data = json.load(file)"
   ]
  },
  {
   "cell_type": "code",
   "execution_count": 43,
   "metadata": {},
   "outputs": [],
   "source": [
    "player_group = []\n",
    "player_acc = []\n",
    "player_names = []\n",
    "player_classes = []"
   ]
  },
  {
   "cell_type": "code",
   "execution_count": 44,
   "metadata": {},
   "outputs": [],
   "source": [
    "player_group.clear()\n",
    "player_acc.clear()\n",
    "player_names.clear()\n",
    "player_classes.clear()"
   ]
  },
  {
   "cell_type": "code",
   "execution_count": 45,
   "metadata": {},
   "outputs": [],
   "source": [
    "for player in data['players']:\n",
    "    player_group.append(player['group'])\n",
    "    player_acc.append(player['acc'])\n",
    "    player_names.append(player['name'])\n",
    "    player_classes.append(player['profession'])"
   ]
  },
  {
   "cell_type": "code",
   "execution_count": 46,
   "metadata": {},
   "outputs": [
    {
     "data": {
      "text/plain": [
       "(['Paiani',\n",
       "  'Xxkakarot',\n",
       "  'Headshot Free',\n",
       "  'Saiku Goldmane',\n",
       "  'Deutschlad',\n",
       "  'Isadora Sunspear',\n",
       "  'F L O R I Ä N',\n",
       "  'Exxcelsiorr',\n",
       "  'Nanacia',\n",
       "  'Carvalhoooo'],\n",
       " [2, 2, 2, 2, 2, 3, 3, 3, 3, 3],\n",
       " ['Scourge',\n",
       "  'Specter',\n",
       "  'Firebrand',\n",
       "  'Renegade',\n",
       "  'Scourge',\n",
       "  'Druid',\n",
       "  'Mechanist',\n",
       "  'Mechanist',\n",
       "  'Firebrand',\n",
       "  'Firebrand'],\n",
       " ['Lemos.8360',\n",
       "  'Brando.1374',\n",
       "  'lPRATESl.6931',\n",
       "  'Andarck.5610',\n",
       "  'The Optional.1538',\n",
       "  'Saiki.5147',\n",
       "  'Yum.8039',\n",
       "  'skyrim.9602',\n",
       "  'Nanacio.1602',\n",
       "  'Carvalho.6382'])"
      ]
     },
     "execution_count": 46,
     "metadata": {},
     "output_type": "execute_result"
    }
   ],
   "source": [
    "player_names,player_group,player_classes,player_acc"
   ]
  },
  {
   "cell_type": "code",
   "execution_count": 47,
   "metadata": {},
   "outputs": [],
   "source": [
    "player_dps1 = []\n",
    "player_dps2 = []\n",
    "player_dps3 = []"
   ]
  },
  {
   "cell_type": "code",
   "execution_count": 48,
   "metadata": {},
   "outputs": [],
   "source": [
    "player_dps1.clear()\n",
    "player_dps2.clear()\n",
    "player_dps3.clear()"
   ]
  },
  {
   "cell_type": "code",
   "execution_count": 49,
   "metadata": {},
   "outputs": [],
   "source": [
    "phase1 = data['phases'][1]['dpsStats']\n",
    "\n",
    "phase1_time_raw = data['phases'][1]['duration']\n",
    "phase1_time = round(phase1_time_raw/1000,1)\n",
    "\n",
    "for dps in phase1:\n",
    "    dps1_raw = dps[0]\n",
    "    player_dps1.append(round(dps1_raw/phase1_time,2))"
   ]
  },
  {
   "cell_type": "code",
   "execution_count": 50,
   "metadata": {},
   "outputs": [],
   "source": [
    "phase2 = data['phases'][6]['dpsStats']\n",
    "\n",
    "phase2_time_raw = data['phases'][6]['duration']\n",
    "phase2_time = round(phase2_time_raw/1000,1)\n",
    "\n",
    "for dps in phase2:\n",
    "    dps2_raw = dps[0]\n",
    "    player_dps2.append(round(dps2_raw/phase2_time,2))"
   ]
  },
  {
   "cell_type": "code",
   "execution_count": 51,
   "metadata": {},
   "outputs": [],
   "source": [
    "phase3 = data['phases'][12]['dpsStats']\n",
    "\n",
    "phase3_time_raw = data['phases'][12]['duration']\n",
    "phase3_time = round(phase3_time_raw/1000,1)\n",
    "\n",
    "for dps in phase3:\n",
    "    dps3_raw = dps[0]\n",
    "    player_dps3.append(round(dps3_raw/phase3_time,2))"
   ]
  },
  {
   "cell_type": "code",
   "execution_count": 52,
   "metadata": {},
   "outputs": [
    {
     "data": {
      "text/plain": [
       "([20839.87,\n",
       "  26297.25,\n",
       "  2650.21,\n",
       "  17522.65,\n",
       "  22235.98,\n",
       "  4086.43,\n",
       "  36023.57,\n",
       "  29339.29,\n",
       "  20514.68,\n",
       "  18611.69],\n",
       " [13824.25,\n",
       "  23995.65,\n",
       "  3609.08,\n",
       "  14295.04,\n",
       "  22041.74,\n",
       "  3632.51,\n",
       "  35294.09,\n",
       "  30220.51,\n",
       "  20125.91,\n",
       "  17686.14],\n",
       " [21871.59,\n",
       "  25639.74,\n",
       "  2906.5,\n",
       "  11729.82,\n",
       "  25958.95,\n",
       "  4939.54,\n",
       "  41721.66,\n",
       "  37518.59,\n",
       "  21492.74,\n",
       "  18464.22])"
      ]
     },
     "execution_count": 52,
     "metadata": {},
     "output_type": "execute_result"
    }
   ],
   "source": [
    "player_dps1,player_dps2,player_dps3"
   ]
  },
  {
   "cell_type": "code",
   "execution_count": 53,
   "metadata": {},
   "outputs": [],
   "source": [
    "stats_dict = {\n",
    "        'players':{\n",
    "            'group': player_group,\n",
    "            'account': player_acc,\n",
    "            'names': player_names,\n",
    "            'profession': player_classes,\n",
    "            'phase_1_dps': player_dps1,\n",
    "            'phase_2_dps': player_dps2,\n",
    "            'phase_3_dps': player_dps3\n",
    "        }\n",
    "    }"
   ]
  },
  {
   "cell_type": "code",
   "execution_count": 56,
   "metadata": {},
   "outputs": [],
   "source": [
    "df = pd.DataFrame(stats_dict['players'], columns=['group','account','names','profession','phase_1_dps','phase_2_dps','phase_3_dps'])"
   ]
  },
  {
   "cell_type": "code",
   "execution_count": 57,
   "metadata": {},
   "outputs": [
    {
     "data": {
      "text/html": [
       "<div>\n",
       "<style scoped>\n",
       "    .dataframe tbody tr th:only-of-type {\n",
       "        vertical-align: middle;\n",
       "    }\n",
       "\n",
       "    .dataframe tbody tr th {\n",
       "        vertical-align: top;\n",
       "    }\n",
       "\n",
       "    .dataframe thead th {\n",
       "        text-align: right;\n",
       "    }\n",
       "</style>\n",
       "<table border=\"1\" class=\"dataframe\">\n",
       "  <thead>\n",
       "    <tr style=\"text-align: right;\">\n",
       "      <th></th>\n",
       "      <th>group</th>\n",
       "      <th>account</th>\n",
       "      <th>names</th>\n",
       "      <th>profession</th>\n",
       "      <th>phase_1_dps</th>\n",
       "      <th>phase_2_dps</th>\n",
       "      <th>phase_3_dps</th>\n",
       "    </tr>\n",
       "  </thead>\n",
       "  <tbody>\n",
       "    <tr>\n",
       "      <th>0</th>\n",
       "      <td>2</td>\n",
       "      <td>Lemos.8360</td>\n",
       "      <td>Paiani</td>\n",
       "      <td>Scourge</td>\n",
       "      <td>20839.87</td>\n",
       "      <td>13824.25</td>\n",
       "      <td>21871.59</td>\n",
       "    </tr>\n",
       "    <tr>\n",
       "      <th>1</th>\n",
       "      <td>2</td>\n",
       "      <td>Brando.1374</td>\n",
       "      <td>Xxkakarot</td>\n",
       "      <td>Specter</td>\n",
       "      <td>26297.25</td>\n",
       "      <td>23995.65</td>\n",
       "      <td>25639.74</td>\n",
       "    </tr>\n",
       "    <tr>\n",
       "      <th>2</th>\n",
       "      <td>2</td>\n",
       "      <td>lPRATESl.6931</td>\n",
       "      <td>Headshot Free</td>\n",
       "      <td>Firebrand</td>\n",
       "      <td>2650.21</td>\n",
       "      <td>3609.08</td>\n",
       "      <td>2906.50</td>\n",
       "    </tr>\n",
       "    <tr>\n",
       "      <th>3</th>\n",
       "      <td>2</td>\n",
       "      <td>Andarck.5610</td>\n",
       "      <td>Saiku Goldmane</td>\n",
       "      <td>Renegade</td>\n",
       "      <td>17522.65</td>\n",
       "      <td>14295.04</td>\n",
       "      <td>11729.82</td>\n",
       "    </tr>\n",
       "    <tr>\n",
       "      <th>4</th>\n",
       "      <td>2</td>\n",
       "      <td>The Optional.1538</td>\n",
       "      <td>Deutschlad</td>\n",
       "      <td>Scourge</td>\n",
       "      <td>22235.98</td>\n",
       "      <td>22041.74</td>\n",
       "      <td>25958.95</td>\n",
       "    </tr>\n",
       "    <tr>\n",
       "      <th>5</th>\n",
       "      <td>3</td>\n",
       "      <td>Saiki.5147</td>\n",
       "      <td>Isadora Sunspear</td>\n",
       "      <td>Druid</td>\n",
       "      <td>4086.43</td>\n",
       "      <td>3632.51</td>\n",
       "      <td>4939.54</td>\n",
       "    </tr>\n",
       "    <tr>\n",
       "      <th>6</th>\n",
       "      <td>3</td>\n",
       "      <td>Yum.8039</td>\n",
       "      <td>F L O R I Ä N</td>\n",
       "      <td>Mechanist</td>\n",
       "      <td>36023.57</td>\n",
       "      <td>35294.09</td>\n",
       "      <td>41721.66</td>\n",
       "    </tr>\n",
       "    <tr>\n",
       "      <th>7</th>\n",
       "      <td>3</td>\n",
       "      <td>skyrim.9602</td>\n",
       "      <td>Exxcelsiorr</td>\n",
       "      <td>Mechanist</td>\n",
       "      <td>29339.29</td>\n",
       "      <td>30220.51</td>\n",
       "      <td>37518.59</td>\n",
       "    </tr>\n",
       "    <tr>\n",
       "      <th>8</th>\n",
       "      <td>3</td>\n",
       "      <td>Nanacio.1602</td>\n",
       "      <td>Nanacia</td>\n",
       "      <td>Firebrand</td>\n",
       "      <td>20514.68</td>\n",
       "      <td>20125.91</td>\n",
       "      <td>21492.74</td>\n",
       "    </tr>\n",
       "    <tr>\n",
       "      <th>9</th>\n",
       "      <td>3</td>\n",
       "      <td>Carvalho.6382</td>\n",
       "      <td>Carvalhoooo</td>\n",
       "      <td>Firebrand</td>\n",
       "      <td>18611.69</td>\n",
       "      <td>17686.14</td>\n",
       "      <td>18464.22</td>\n",
       "    </tr>\n",
       "  </tbody>\n",
       "</table>\n",
       "</div>"
      ],
      "text/plain": [
       "   group            account             names profession  phase_1_dps  \\\n",
       "0      2         Lemos.8360            Paiani    Scourge     20839.87   \n",
       "1      2        Brando.1374         Xxkakarot    Specter     26297.25   \n",
       "2      2      lPRATESl.6931     Headshot Free  Firebrand      2650.21   \n",
       "3      2       Andarck.5610    Saiku Goldmane   Renegade     17522.65   \n",
       "4      2  The Optional.1538        Deutschlad    Scourge     22235.98   \n",
       "5      3         Saiki.5147  Isadora Sunspear      Druid      4086.43   \n",
       "6      3           Yum.8039     F L O R I Ä N  Mechanist     36023.57   \n",
       "7      3        skyrim.9602       Exxcelsiorr  Mechanist     29339.29   \n",
       "8      3       Nanacio.1602           Nanacia  Firebrand     20514.68   \n",
       "9      3      Carvalho.6382       Carvalhoooo  Firebrand     18611.69   \n",
       "\n",
       "   phase_2_dps  phase_3_dps  \n",
       "0     13824.25     21871.59  \n",
       "1     23995.65     25639.74  \n",
       "2      3609.08      2906.50  \n",
       "3     14295.04     11729.82  \n",
       "4     22041.74     25958.95  \n",
       "5      3632.51      4939.54  \n",
       "6     35294.09     41721.66  \n",
       "7     30220.51     37518.59  \n",
       "8     20125.91     21492.74  \n",
       "9     17686.14     18464.22  "
      ]
     },
     "execution_count": 57,
     "metadata": {},
     "output_type": "execute_result"
    }
   ],
   "source": [
    "df"
   ]
  }
 ],
 "metadata": {
  "kernelspec": {
   "display_name": "Python 3.10.6 64-bit",
   "language": "python",
   "name": "python3"
  },
  "language_info": {
   "codemirror_mode": {
    "name": "ipython",
    "version": 3
   },
   "file_extension": ".py",
   "mimetype": "text/x-python",
   "name": "python",
   "nbconvert_exporter": "python",
   "pygments_lexer": "ipython3",
   "version": "3.10.6"
  },
  "orig_nbformat": 4,
  "vscode": {
   "interpreter": {
    "hash": "acf8403819adfe497959fb7d2d03e26c50ad436fbbc78e6c84d8efa62b34f3d9"
   }
  }
 },
 "nbformat": 4,
 "nbformat_minor": 2
}
